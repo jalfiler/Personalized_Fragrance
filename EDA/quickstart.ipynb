{
 "cells": [
  {
   "cell_type": "markdown",
   "id": "130a9e40-7976-484c-a2fd-3e7d467776e4",
   "metadata": {
    "tags": []
   },
   "source": [
    "### Connecting to Azure SQL database"
   ]
  },
  {
   "cell_type": "markdown",
   "id": "8e83e3da-0905-4e63-b284-09b733db08dd",
   "metadata": {},
   "source": [
    "Run following command:"
   ]
  },
  {
   "cell_type": "markdown",
   "id": "906dbae2-4ef3-41b2-845a-e708592f081d",
   "metadata": {},
   "source": [
    "    docker run -e 'ACCEPT_EULA=Y' -e 'SA_PASSWORD=<your_password>' -p 1433:1433 --name sql-server -d mcr.microsoft.com/mssql/server:2019-latest"
   ]
  },
  {
   "cell_type": "code",
   "execution_count": null,
   "id": "d7820a1a-61c9-4705-81bb-8e08d8c24b1b",
   "metadata": {
    "tags": []
   },
   "outputs": [],
   "source": [
    "# connect Docker container with Python\n",
    "import pyodbc\n",
    "\n",
    "server = 'localhost,1433'\n",
    "database = '<your_database_name>'\n",
    "username = 'sa'\n",
    "password = '<your_password>'\n",
    "driver = '{ODBC Driver 17 for SQL Server}'\n",
    "\n",
    "conn_str = f\"DRIVER={driver};SERVER={server};DATABASE={database};UID={username};PWD={password}\"\n",
    "conn = pyodbc.connect(conn_str)\n",
    "\n",
    "cursor = conn.cursor()\n",
    "cursor.execute('SELECT * FROM <your_table_name>')\n",
    "rows = cursor.fetchall()\n",
    "\n",
    "for row in rows:\n",
    "    print(row)"
   ]
  }
 ],
 "metadata": {
  "kernelspec": {
   "display_name": "Python 3 (ipykernel)",
   "language": "python",
   "name": "python3"
  },
  "language_info": {
   "codemirror_mode": {
    "name": "ipython",
    "version": 3
   },
   "file_extension": ".py",
   "mimetype": "text/x-python",
   "name": "python",
   "nbconvert_exporter": "python",
   "pygments_lexer": "ipython3",
   "version": "3.10.9"
  }
 },
 "nbformat": 4,
 "nbformat_minor": 5
}
