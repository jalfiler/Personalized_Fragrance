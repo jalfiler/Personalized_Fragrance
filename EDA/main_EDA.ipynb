{
 "cells": [
  {
   "cell_type": "markdown",
   "id": "fe14f925-3187-4d4c-bf40-6ec0b4628738",
   "metadata": {},
   "source": [
    "# Exploratory Data Analysis of ScentAI"
   ]
  },
  {
   "cell_type": "markdown",
   "id": "3f36910d-37e4-4fa4-92df-c7638cc9bad9",
   "metadata": {},
   "source": [
    "### Table of Contents\n",
    "1. Load the data\n",
    "2. Explore the data\n",
    "3. Handle missing values\n",
    "4. Handle outliers\n",
    "5. Data transformations\n",
    "6. Data visualization\n",
    "7. Model selection\n",
    "8. Model evaluation (Next page...)"
   ]
  },
  {
   "cell_type": "markdown",
   "id": "8cc378c7-9152-4c26-bed4-855465c6d5a9",
   "metadata": {},
   "source": [
    "### 1. Load the data"
   ]
  },
  {
   "cell_type": "code",
   "execution_count": 130,
   "id": "786141bf-0b80-4750-b005-65a1e165ba78",
   "metadata": {
    "tags": []
   },
   "outputs": [
    {
     "data": {
      "text/html": [
       "<div>\n",
       "<style scoped>\n",
       "    .dataframe tbody tr th:only-of-type {\n",
       "        vertical-align: middle;\n",
       "    }\n",
       "\n",
       "    .dataframe tbody tr th {\n",
       "        vertical-align: top;\n",
       "    }\n",
       "\n",
       "    .dataframe thead th {\n",
       "        text-align: right;\n",
       "    }\n",
       "</style>\n",
       "<table border=\"1\" class=\"dataframe\">\n",
       "  <thead>\n",
       "    <tr style=\"text-align: right;\">\n",
       "      <th></th>\n",
       "      <th>Unnamed: 0</th>\n",
       "      <th>brand</th>\n",
       "      <th>name</th>\n",
       "      <th>old_price</th>\n",
       "      <th>new_price</th>\n",
       "      <th>ml</th>\n",
       "      <th>concentration</th>\n",
       "      <th>department</th>\n",
       "      <th>scents</th>\n",
       "      <th>base_note</th>\n",
       "      <th>middle_note</th>\n",
       "      <th>item_rating</th>\n",
       "      <th>seller</th>\n",
       "      <th>seller_rating</th>\n",
       "      <th>num_seller_ratings</th>\n",
       "    </tr>\n",
       "  </thead>\n",
       "  <tbody>\n",
       "    <tr>\n",
       "      <th>0</th>\n",
       "      <td>0</td>\n",
       "      <td>PACO RABANNE</td>\n",
       "      <td>1 Million Lucky</td>\n",
       "      <td>395.0</td>\n",
       "      <td>244.55</td>\n",
       "      <td>100</td>\n",
       "      <td>EDT</td>\n",
       "      <td>Men</td>\n",
       "      <td>Woody</td>\n",
       "      <td>Oakmoss, Patchouli and Vetiver</td>\n",
       "      <td>Hazelnut, Jasmine, Cashmir Wood, Cedar and Honey</td>\n",
       "      <td>5.0</td>\n",
       "      <td>noon</td>\n",
       "      <td>4.2</td>\n",
       "      <td>98.1K</td>\n",
       "    </tr>\n",
       "    <tr>\n",
       "      <th>1</th>\n",
       "      <td>1</td>\n",
       "      <td>Roberto Cavalli</td>\n",
       "      <td>Paradiso Assoluto</td>\n",
       "      <td>415.0</td>\n",
       "      <td>107.95</td>\n",
       "      <td>50</td>\n",
       "      <td>EDP</td>\n",
       "      <td>Women</td>\n",
       "      <td>Floral</td>\n",
       "      <td>Vanilla, Sandalwood And Patchouli</td>\n",
       "      <td>Wild Jasmine and Red Lily</td>\n",
       "      <td>4.8</td>\n",
       "      <td>noon</td>\n",
       "      <td>4.2</td>\n",
       "      <td>98.1K</td>\n",
       "    </tr>\n",
       "    <tr>\n",
       "      <th>2</th>\n",
       "      <td>2</td>\n",
       "      <td>S.T.Dupont</td>\n",
       "      <td>Royal Amber</td>\n",
       "      <td>265.0</td>\n",
       "      <td>186.90</td>\n",
       "      <td>100</td>\n",
       "      <td>EDP</td>\n",
       "      <td>Unisex</td>\n",
       "      <td>Arabian</td>\n",
       "      <td>Lemon, Mint and Wood Moss</td>\n",
       "      <td>Sandalwood and Cedar</td>\n",
       "      <td>5.0</td>\n",
       "      <td>noon</td>\n",
       "      <td>4.2</td>\n",
       "      <td>98.1K</td>\n",
       "    </tr>\n",
       "    <tr>\n",
       "      <th>3</th>\n",
       "      <td>3</td>\n",
       "      <td>GUESS</td>\n",
       "      <td>Seductive Blue</td>\n",
       "      <td>290.0</td>\n",
       "      <td>103.20</td>\n",
       "      <td>100</td>\n",
       "      <td>EDT</td>\n",
       "      <td>Men</td>\n",
       "      <td>Spicy</td>\n",
       "      <td>Cashmere Wood, Moss And Rippled Sand Accord</td>\n",
       "      <td>Blue Coral Aquaspace Accord And Geranium</td>\n",
       "      <td>3.0</td>\n",
       "      <td>noon</td>\n",
       "      <td>4.2</td>\n",
       "      <td>98.1K</td>\n",
       "    </tr>\n",
       "    <tr>\n",
       "      <th>4</th>\n",
       "      <td>4</td>\n",
       "      <td>Roberto Cavalli</td>\n",
       "      <td>Uomo</td>\n",
       "      <td>260.0</td>\n",
       "      <td>94.95</td>\n",
       "      <td>50</td>\n",
       "      <td>EDP</td>\n",
       "      <td>Women</td>\n",
       "      <td>Arabian</td>\n",
       "      <td>Vanille, Benzoin, Tonka Bean</td>\n",
       "      <td>African Orange Flower</td>\n",
       "      <td>4.8</td>\n",
       "      <td>noon</td>\n",
       "      <td>4.2</td>\n",
       "      <td>98.1K</td>\n",
       "    </tr>\n",
       "  </tbody>\n",
       "</table>\n",
       "</div>"
      ],
      "text/plain": [
       "   Unnamed: 0            brand               name  old_price  new_price   ml  \\\n",
       "0           0     PACO RABANNE    1 Million Lucky      395.0     244.55  100   \n",
       "1           1  Roberto Cavalli  Paradiso Assoluto      415.0     107.95   50   \n",
       "2           2       S.T.Dupont        Royal Amber      265.0     186.90  100   \n",
       "3           3            GUESS     Seductive Blue      290.0     103.20  100   \n",
       "4           4  Roberto Cavalli               Uomo      260.0      94.95   50   \n",
       "\n",
       "  concentration department   scents  \\\n",
       "0           EDT        Men    Woody   \n",
       "1           EDP      Women   Floral   \n",
       "2           EDP     Unisex  Arabian   \n",
       "3           EDT        Men    Spicy   \n",
       "4           EDP      Women  Arabian   \n",
       "\n",
       "                                     base_note  \\\n",
       "0               Oakmoss, Patchouli and Vetiver   \n",
       "1            Vanilla, Sandalwood And Patchouli   \n",
       "2                    Lemon, Mint and Wood Moss   \n",
       "3  Cashmere Wood, Moss And Rippled Sand Accord   \n",
       "4                 Vanille, Benzoin, Tonka Bean   \n",
       "\n",
       "                                        middle_note  item_rating seller  \\\n",
       "0  Hazelnut, Jasmine, Cashmir Wood, Cedar and Honey          5.0   noon   \n",
       "1                         Wild Jasmine and Red Lily          4.8   noon   \n",
       "2                              Sandalwood and Cedar          5.0   noon   \n",
       "3          Blue Coral Aquaspace Accord And Geranium          3.0   noon   \n",
       "4                             African Orange Flower          4.8   noon   \n",
       "\n",
       "   seller_rating num_seller_ratings  \n",
       "0            4.2              98.1K  \n",
       "1            4.2              98.1K  \n",
       "2            4.2              98.1K  \n",
       "3            4.2              98.1K  \n",
       "4            4.2              98.1K  "
      ]
     },
     "execution_count": 130,
     "metadata": {},
     "output_type": "execute_result"
    }
   ],
   "source": [
    "import pandas as pd\n",
    "\n",
    "df = pd.read_csv('raw_noon.csv') # raw data\n",
    "\n",
    "df.head()"
   ]
  },
  {
   "cell_type": "markdown",
   "id": "abeadd36-5058-4d1f-a848-707e8a7e46d1",
   "metadata": {
    "tags": []
   },
   "source": [
    "### The dataset includes the following variables:\n",
    "\n",
    "| Column Name | Description |\n",
    "|-------------|-------------|\n",
    "| brand | The brand of the scent product |\n",
    "| name | The name of the scent product |\n",
    "| old_price | The original price of the scent product |\n",
    "| new_price | The current price of the scent product |\n",
    "| ml | The volume of the scent product in milliliters |\n",
    "| concentration | The concentration of the scent product (e.g. Eau de Toilette, Eau de Parfum) |\n",
    "| department | The department or category of the scent product |\n",
    "| scents | The top notes of the scent product |\n",
    "| base_note | The base notes of the scent product |\n",
    "| middle_note | The middle notes of the scent product |\n",
    "| item_rating | The average rating of the scent product on the online marketplace |\n",
    "| seller | The seller of the scent product |\n",
    "| seller_rating | The rating of the scent product's seller on the online marketplace |\n",
    "| num_seller_ratings | The number of ratings the scent product's seller has received on the online marketplace |"
   ]
  },
  {
   "cell_type": "markdown",
   "id": "26e9c1a5-5b1d-46af-9547-24c51d7027c6",
   "metadata": {},
   "source": [
    "### 2. Explore data"
   ]
  },
  {
   "cell_type": "code",
   "execution_count": 9,
   "id": "7cd02a25-33e7-4059-92ed-abfd9138c535",
   "metadata": {
    "tags": []
   },
   "outputs": [
    {
     "data": {
      "text/html": [
       "<div>\n",
       "<style scoped>\n",
       "    .dataframe tbody tr th:only-of-type {\n",
       "        vertical-align: middle;\n",
       "    }\n",
       "\n",
       "    .dataframe tbody tr th {\n",
       "        vertical-align: top;\n",
       "    }\n",
       "\n",
       "    .dataframe thead th {\n",
       "        text-align: right;\n",
       "    }\n",
       "</style>\n",
       "<table border=\"1\" class=\"dataframe\">\n",
       "  <thead>\n",
       "    <tr style=\"text-align: right;\">\n",
       "      <th></th>\n",
       "      <th>Unnamed: 0</th>\n",
       "      <th>brand</th>\n",
       "      <th>name</th>\n",
       "      <th>old_price</th>\n",
       "      <th>new_price</th>\n",
       "      <th>ml</th>\n",
       "      <th>concentration</th>\n",
       "      <th>department</th>\n",
       "      <th>scents</th>\n",
       "      <th>base_note</th>\n",
       "      <th>middle_note</th>\n",
       "      <th>item_rating</th>\n",
       "      <th>seller</th>\n",
       "      <th>seller_rating</th>\n",
       "      <th>num_seller_ratings</th>\n",
       "    </tr>\n",
       "  </thead>\n",
       "  <tbody>\n",
       "    <tr>\n",
       "      <th>998</th>\n",
       "      <td>998</td>\n",
       "      <td>GUESS</td>\n",
       "      <td>Dare</td>\n",
       "      <td>170.0</td>\n",
       "      <td>75.00</td>\n",
       "      <td>100</td>\n",
       "      <td>EDT</td>\n",
       "      <td>Women</td>\n",
       "      <td>Citrus</td>\n",
       "      <td>Coconut Accords, Wood, Musk</td>\n",
       "      <td>Wild Rose, Elegant Jasmine</td>\n",
       "      <td>4.9</td>\n",
       "      <td>noon</td>\n",
       "      <td>4.2</td>\n",
       "      <td>98.1K</td>\n",
       "    </tr>\n",
       "    <tr>\n",
       "      <th>999</th>\n",
       "      <td>999</td>\n",
       "      <td>BURBERRY</td>\n",
       "      <td>For Women EDP Natural Sp</td>\n",
       "      <td>378.0</td>\n",
       "      <td>153.75</td>\n",
       "      <td>100</td>\n",
       "      <td>EDT</td>\n",
       "      <td>Women</td>\n",
       "      <td>Fruity</td>\n",
       "      <td>Musk And Vanilla</td>\n",
       "      <td>Woody-Floral, Sandalwood And Cedar</td>\n",
       "      <td>4.8</td>\n",
       "      <td>noon</td>\n",
       "      <td>4.2</td>\n",
       "      <td>98.1K</td>\n",
       "    </tr>\n",
       "    <tr>\n",
       "      <th>1000</th>\n",
       "      <td>1000</td>\n",
       "      <td>JOVAN</td>\n",
       "      <td>Musk Cologne Sp</td>\n",
       "      <td>55.0</td>\n",
       "      <td>19.00</td>\n",
       "      <td>59</td>\n",
       "      <td>EDT</td>\n",
       "      <td>Women</td>\n",
       "      <td>Woody</td>\n",
       "      <td>Musk, Amber, Wood</td>\n",
       "      <td>Ylang-ylang</td>\n",
       "      <td>4.7</td>\n",
       "      <td>Cute</td>\n",
       "      <td>3.7</td>\n",
       "      <td>1.9K</td>\n",
       "    </tr>\n",
       "    <tr>\n",
       "      <th>1001</th>\n",
       "      <td>1001</td>\n",
       "      <td>SWISS ARABIAN</td>\n",
       "      <td>Layali CPO At</td>\n",
       "      <td>126.0</td>\n",
       "      <td>77.00</td>\n",
       "      <td>15</td>\n",
       "      <td>EDT</td>\n",
       "      <td>Unisex</td>\n",
       "      <td>Arabian</td>\n",
       "      <td>Agarwood and Amber</td>\n",
       "      <td>Ylang-Ylang, Rose and Jasmine</td>\n",
       "      <td>4.0</td>\n",
       "      <td>Swiss Arabian PerfumesPRICE UPDATE WITH 15% VA...</td>\n",
       "      <td>3.9</td>\n",
       "      <td>5</td>\n",
       "    </tr>\n",
       "    <tr>\n",
       "      <th>1002</th>\n",
       "      <td>1002</td>\n",
       "      <td>LACOSTE</td>\n",
       "      <td>L.12.12 Blanc-Pure</td>\n",
       "      <td>347.0</td>\n",
       "      <td>94.20</td>\n",
       "      <td>100</td>\n",
       "      <td>EDT</td>\n",
       "      <td>Men</td>\n",
       "      <td>Woody</td>\n",
       "      <td>Virginia Cedar, Leather, Suede, Vetiver</td>\n",
       "      <td>Ylang-Ylang, Tuberose</td>\n",
       "      <td>4.6</td>\n",
       "      <td>noon</td>\n",
       "      <td>4.2</td>\n",
       "      <td>98.1K</td>\n",
       "    </tr>\n",
       "  </tbody>\n",
       "</table>\n",
       "</div>"
      ],
      "text/plain": [
       "      Unnamed: 0          brand                      name  old_price  \\\n",
       "998          998          GUESS                      Dare      170.0   \n",
       "999          999       BURBERRY  For Women EDP Natural Sp      378.0   \n",
       "1000        1000          JOVAN           Musk Cologne Sp       55.0   \n",
       "1001        1001  SWISS ARABIAN             Layali CPO At      126.0   \n",
       "1002        1002        LACOSTE        L.12.12 Blanc-Pure      347.0   \n",
       "\n",
       "      new_price   ml concentration department   scents  \\\n",
       "998       75.00  100           EDT      Women   Citrus   \n",
       "999      153.75  100           EDT      Women   Fruity   \n",
       "1000      19.00   59           EDT      Women    Woody   \n",
       "1001      77.00   15           EDT     Unisex  Arabian   \n",
       "1002      94.20  100           EDT        Men    Woody   \n",
       "\n",
       "                                    base_note  \\\n",
       "998               Coconut Accords, Wood, Musk   \n",
       "999                          Musk And Vanilla   \n",
       "1000                        Musk, Amber, Wood   \n",
       "1001                       Agarwood and Amber   \n",
       "1002  Virginia Cedar, Leather, Suede, Vetiver   \n",
       "\n",
       "                             middle_note  item_rating  \\\n",
       "998           Wild Rose, Elegant Jasmine          4.9   \n",
       "999   Woody-Floral, Sandalwood And Cedar          4.8   \n",
       "1000                         Ylang-ylang          4.7   \n",
       "1001       Ylang-Ylang, Rose and Jasmine          4.0   \n",
       "1002               Ylang-Ylang, Tuberose          4.6   \n",
       "\n",
       "                                                 seller  seller_rating  \\\n",
       "998                                                noon            4.2   \n",
       "999                                                noon            4.2   \n",
       "1000                                               Cute            3.7   \n",
       "1001  Swiss Arabian PerfumesPRICE UPDATE WITH 15% VA...            3.9   \n",
       "1002                                               noon            4.2   \n",
       "\n",
       "     num_seller_ratings  \n",
       "998               98.1K  \n",
       "999               98.1K  \n",
       "1000               1.9K  \n",
       "1001                  5  \n",
       "1002              98.1K  "
      ]
     },
     "execution_count": 9,
     "metadata": {},
     "output_type": "execute_result"
    }
   ],
   "source": [
    "df.tail() # check last few columns"
   ]
  },
  {
   "cell_type": "code",
   "execution_count": 7,
   "id": "5e0c438f-665a-465e-9714-dba75123ac4a",
   "metadata": {
    "tags": []
   },
   "outputs": [
    {
     "data": {
      "text/plain": [
       "(1003, 15)"
      ]
     },
     "execution_count": 7,
     "metadata": {},
     "output_type": "execute_result"
    }
   ],
   "source": [
    "df.shape # rows x columns"
   ]
  },
  {
   "cell_type": "code",
   "execution_count": 10,
   "id": "6b741071-626e-49cf-b9d6-f2afa8f8aff4",
   "metadata": {
    "tags": []
   },
   "outputs": [
    {
     "data": {
      "text/plain": [
       "<bound method DataFrame.info of       Unnamed: 0            brand                      name  old_price  \\\n",
       "0              0     PACO RABANNE           1 Million Lucky      395.0   \n",
       "1              1  Roberto Cavalli         Paradiso Assoluto      415.0   \n",
       "2              2       S.T.Dupont               Royal Amber      265.0   \n",
       "3              3            GUESS            Seductive Blue      290.0   \n",
       "4              4  Roberto Cavalli                      Uomo      260.0   \n",
       "...          ...              ...                       ...        ...   \n",
       "998          998            GUESS                      Dare      170.0   \n",
       "999          999         BURBERRY  For Women EDP Natural Sp      378.0   \n",
       "1000        1000            JOVAN           Musk Cologne Sp       55.0   \n",
       "1001        1001    SWISS ARABIAN             Layali CPO At      126.0   \n",
       "1002        1002          LACOSTE        L.12.12 Blanc-Pure      347.0   \n",
       "\n",
       "      new_price   ml concentration department   scents  \\\n",
       "0        244.55  100           EDT        Men    Woody   \n",
       "1        107.95   50           EDP      Women   Floral   \n",
       "2        186.90  100           EDP     Unisex  Arabian   \n",
       "3        103.20  100           EDT        Men    Spicy   \n",
       "4         94.95   50           EDP      Women  Arabian   \n",
       "...         ...  ...           ...        ...      ...   \n",
       "998       75.00  100           EDT      Women   Citrus   \n",
       "999      153.75  100           EDT      Women   Fruity   \n",
       "1000      19.00   59           EDT      Women    Woody   \n",
       "1001      77.00   15           EDT     Unisex  Arabian   \n",
       "1002      94.20  100           EDT        Men    Woody   \n",
       "\n",
       "                                        base_note  \\\n",
       "0                  Oakmoss, Patchouli and Vetiver   \n",
       "1               Vanilla, Sandalwood And Patchouli   \n",
       "2                       Lemon, Mint and Wood Moss   \n",
       "3     Cashmere Wood, Moss And Rippled Sand Accord   \n",
       "4                    Vanille, Benzoin, Tonka Bean   \n",
       "...                                           ...   \n",
       "998                   Coconut Accords, Wood, Musk   \n",
       "999                              Musk And Vanilla   \n",
       "1000                            Musk, Amber, Wood   \n",
       "1001                           Agarwood and Amber   \n",
       "1002      Virginia Cedar, Leather, Suede, Vetiver   \n",
       "\n",
       "                                           middle_note  item_rating  \\\n",
       "0     Hazelnut, Jasmine, Cashmir Wood, Cedar and Honey          5.0   \n",
       "1                            Wild Jasmine and Red Lily          4.8   \n",
       "2                                 Sandalwood and Cedar          5.0   \n",
       "3             Blue Coral Aquaspace Accord And Geranium          3.0   \n",
       "4                                African Orange Flower          4.8   \n",
       "...                                                ...          ...   \n",
       "998                         Wild Rose, Elegant Jasmine          4.9   \n",
       "999                 Woody-Floral, Sandalwood And Cedar          4.8   \n",
       "1000                                       Ylang-ylang          4.7   \n",
       "1001                     Ylang-Ylang, Rose and Jasmine          4.0   \n",
       "1002                             Ylang-Ylang, Tuberose          4.6   \n",
       "\n",
       "                                                 seller  seller_rating  \\\n",
       "0                                                  noon            4.2   \n",
       "1                                                  noon            4.2   \n",
       "2                                                  noon            4.2   \n",
       "3                                                  noon            4.2   \n",
       "4                                                  noon            4.2   \n",
       "...                                                 ...            ...   \n",
       "998                                                noon            4.2   \n",
       "999                                                noon            4.2   \n",
       "1000                                               Cute            3.7   \n",
       "1001  Swiss Arabian PerfumesPRICE UPDATE WITH 15% VA...            3.9   \n",
       "1002                                               noon            4.2   \n",
       "\n",
       "     num_seller_ratings  \n",
       "0                 98.1K  \n",
       "1                 98.1K  \n",
       "2                 98.1K  \n",
       "3                 98.1K  \n",
       "4                 98.1K  \n",
       "...                 ...  \n",
       "998               98.1K  \n",
       "999               98.1K  \n",
       "1000               1.9K  \n",
       "1001                  5  \n",
       "1002              98.1K  \n",
       "\n",
       "[1003 rows x 15 columns]>"
      ]
     },
     "execution_count": 10,
     "metadata": {},
     "output_type": "execute_result"
    }
   ],
   "source": [
    "df.info # check for missing values "
   ]
  },
  {
   "cell_type": "code",
   "execution_count": 11,
   "id": "92548cf7-2b4e-46ec-bf1b-34a2ccf8eed9",
   "metadata": {
    "tags": []
   },
   "outputs": [
    {
     "data": {
      "text/html": [
       "<div>\n",
       "<style scoped>\n",
       "    .dataframe tbody tr th:only-of-type {\n",
       "        vertical-align: middle;\n",
       "    }\n",
       "\n",
       "    .dataframe tbody tr th {\n",
       "        vertical-align: top;\n",
       "    }\n",
       "\n",
       "    .dataframe thead th {\n",
       "        text-align: right;\n",
       "    }\n",
       "</style>\n",
       "<table border=\"1\" class=\"dataframe\">\n",
       "  <thead>\n",
       "    <tr style=\"text-align: right;\">\n",
       "      <th></th>\n",
       "      <th>Unnamed: 0</th>\n",
       "      <th>old_price</th>\n",
       "      <th>new_price</th>\n",
       "      <th>ml</th>\n",
       "      <th>item_rating</th>\n",
       "      <th>seller_rating</th>\n",
       "    </tr>\n",
       "  </thead>\n",
       "  <tbody>\n",
       "    <tr>\n",
       "      <th>count</th>\n",
       "      <td>1003.000000</td>\n",
       "      <td>1003.000000</td>\n",
       "      <td>1003.000000</td>\n",
       "      <td>1003.000000</td>\n",
       "      <td>1003.000000</td>\n",
       "      <td>1003.000000</td>\n",
       "    </tr>\n",
       "    <tr>\n",
       "      <th>mean</th>\n",
       "      <td>501.000000</td>\n",
       "      <td>321.176022</td>\n",
       "      <td>149.574307</td>\n",
       "      <td>92.862413</td>\n",
       "      <td>4.530907</td>\n",
       "      <td>14.143170</td>\n",
       "    </tr>\n",
       "    <tr>\n",
       "      <th>std</th>\n",
       "      <td>289.685462</td>\n",
       "      <td>234.195846</td>\n",
       "      <td>108.686013</td>\n",
       "      <td>27.496053</td>\n",
       "      <td>0.555504</td>\n",
       "      <td>64.706572</td>\n",
       "    </tr>\n",
       "    <tr>\n",
       "      <th>min</th>\n",
       "      <td>0.000000</td>\n",
       "      <td>5.350000</td>\n",
       "      <td>5.350000</td>\n",
       "      <td>1.000000</td>\n",
       "      <td>1.000000</td>\n",
       "      <td>3.500000</td>\n",
       "    </tr>\n",
       "    <tr>\n",
       "      <th>25%</th>\n",
       "      <td>250.500000</td>\n",
       "      <td>140.500000</td>\n",
       "      <td>80.325000</td>\n",
       "      <td>80.000000</td>\n",
       "      <td>4.400000</td>\n",
       "      <td>3.800000</td>\n",
       "    </tr>\n",
       "    <tr>\n",
       "      <th>50%</th>\n",
       "      <td>501.000000</td>\n",
       "      <td>310.000000</td>\n",
       "      <td>135.000000</td>\n",
       "      <td>100.000000</td>\n",
       "      <td>4.600000</td>\n",
       "      <td>3.900000</td>\n",
       "    </tr>\n",
       "    <tr>\n",
       "      <th>75%</th>\n",
       "      <td>751.500000</td>\n",
       "      <td>455.000000</td>\n",
       "      <td>198.525000</td>\n",
       "      <td>100.000000</td>\n",
       "      <td>5.000000</td>\n",
       "      <td>4.200000</td>\n",
       "    </tr>\n",
       "    <tr>\n",
       "      <th>max</th>\n",
       "      <td>1002.000000</td>\n",
       "      <td>2350.000000</td>\n",
       "      <td>904.850000</td>\n",
       "      <td>200.000000</td>\n",
       "      <td>5.000000</td>\n",
       "      <td>454.000000</td>\n",
       "    </tr>\n",
       "  </tbody>\n",
       "</table>\n",
       "</div>"
      ],
      "text/plain": [
       "        Unnamed: 0    old_price    new_price           ml  item_rating  \\\n",
       "count  1003.000000  1003.000000  1003.000000  1003.000000  1003.000000   \n",
       "mean    501.000000   321.176022   149.574307    92.862413     4.530907   \n",
       "std     289.685462   234.195846   108.686013    27.496053     0.555504   \n",
       "min       0.000000     5.350000     5.350000     1.000000     1.000000   \n",
       "25%     250.500000   140.500000    80.325000    80.000000     4.400000   \n",
       "50%     501.000000   310.000000   135.000000   100.000000     4.600000   \n",
       "75%     751.500000   455.000000   198.525000   100.000000     5.000000   \n",
       "max    1002.000000  2350.000000   904.850000   200.000000     5.000000   \n",
       "\n",
       "       seller_rating  \n",
       "count    1003.000000  \n",
       "mean       14.143170  \n",
       "std        64.706572  \n",
       "min         3.500000  \n",
       "25%         3.800000  \n",
       "50%         3.900000  \n",
       "75%         4.200000  \n",
       "max       454.000000  "
      ]
     },
     "execution_count": 11,
     "metadata": {},
     "output_type": "execute_result"
    }
   ],
   "source": [
    "df.describe() # summary statistics"
   ]
  },
  {
   "cell_type": "code",
   "execution_count": 12,
   "id": "3b01eb59-1abe-4756-a02e-4cecb643493c",
   "metadata": {
    "tags": []
   },
   "outputs": [
    {
     "data": {
      "text/plain": [
       "Women          503\n",
       "Men            433\n",
       "Unisex          66\n",
       "Kids Unisex      1\n",
       "Name: department, dtype: int64"
      ]
     },
     "execution_count": 12,
     "metadata": {},
     "output_type": "execute_result"
    }
   ],
   "source": [
    "df['department'].value_counts() # discrete values"
   ]
  },
  {
   "cell_type": "code",
   "execution_count": 14,
   "id": "6a2ce725-ee05-491b-815c-52146cfb94f5",
   "metadata": {
    "tags": []
   },
   "outputs": [
    {
     "data": {
      "text/plain": [
       "EDT    503\n",
       "EDP    494\n",
       "PDT      3\n",
       "Oil      2\n",
       "EDC      1\n",
       "Name: concentration, dtype: int64"
      ]
     },
     "execution_count": 14,
     "metadata": {},
     "output_type": "execute_result"
    }
   ],
   "source": [
    "df['concentration'].value_counts()"
   ]
  },
  {
   "cell_type": "code",
   "execution_count": 13,
   "id": "cbb31002-6030-47b8-8578-c6effb767ea6",
   "metadata": {
    "tags": []
   },
   "outputs": [
    {
     "name": "stderr",
     "output_type": "stream",
     "text": [
      "/var/folders/3l/qm1h__810wxdvb5khb64r2dw0000gn/T/ipykernel_62474/159544976.py:1: FutureWarning: The default value of numeric_only in DataFrame.corr is deprecated. In a future version, it will default to False. Select only valid columns or specify the value of numeric_only to silence this warning.\n",
      "  df.corr() # check for any type of correlation\n"
     ]
    },
    {
     "data": {
      "text/html": [
       "<div>\n",
       "<style scoped>\n",
       "    .dataframe tbody tr th:only-of-type {\n",
       "        vertical-align: middle;\n",
       "    }\n",
       "\n",
       "    .dataframe tbody tr th {\n",
       "        vertical-align: top;\n",
       "    }\n",
       "\n",
       "    .dataframe thead th {\n",
       "        text-align: right;\n",
       "    }\n",
       "</style>\n",
       "<table border=\"1\" class=\"dataframe\">\n",
       "  <thead>\n",
       "    <tr style=\"text-align: right;\">\n",
       "      <th></th>\n",
       "      <th>Unnamed: 0</th>\n",
       "      <th>old_price</th>\n",
       "      <th>new_price</th>\n",
       "      <th>ml</th>\n",
       "      <th>item_rating</th>\n",
       "      <th>seller_rating</th>\n",
       "    </tr>\n",
       "  </thead>\n",
       "  <tbody>\n",
       "    <tr>\n",
       "      <th>Unnamed: 0</th>\n",
       "      <td>1.000000</td>\n",
       "      <td>-0.004149</td>\n",
       "      <td>-0.029880</td>\n",
       "      <td>0.002419</td>\n",
       "      <td>-0.039986</td>\n",
       "      <td>0.057831</td>\n",
       "    </tr>\n",
       "    <tr>\n",
       "      <th>old_price</th>\n",
       "      <td>-0.004149</td>\n",
       "      <td>1.000000</td>\n",
       "      <td>0.843291</td>\n",
       "      <td>0.136681</td>\n",
       "      <td>0.076632</td>\n",
       "      <td>-0.089829</td>\n",
       "    </tr>\n",
       "    <tr>\n",
       "      <th>new_price</th>\n",
       "      <td>-0.029880</td>\n",
       "      <td>0.843291</td>\n",
       "      <td>1.000000</td>\n",
       "      <td>0.144291</td>\n",
       "      <td>0.105685</td>\n",
       "      <td>-0.009339</td>\n",
       "    </tr>\n",
       "    <tr>\n",
       "      <th>ml</th>\n",
       "      <td>0.002419</td>\n",
       "      <td>0.136681</td>\n",
       "      <td>0.144291</td>\n",
       "      <td>1.000000</td>\n",
       "      <td>-0.028908</td>\n",
       "      <td>0.027020</td>\n",
       "    </tr>\n",
       "    <tr>\n",
       "      <th>item_rating</th>\n",
       "      <td>-0.039986</td>\n",
       "      <td>0.076632</td>\n",
       "      <td>0.105685</td>\n",
       "      <td>-0.028908</td>\n",
       "      <td>1.000000</td>\n",
       "      <td>-0.036039</td>\n",
       "    </tr>\n",
       "    <tr>\n",
       "      <th>seller_rating</th>\n",
       "      <td>0.057831</td>\n",
       "      <td>-0.089829</td>\n",
       "      <td>-0.009339</td>\n",
       "      <td>0.027020</td>\n",
       "      <td>-0.036039</td>\n",
       "      <td>1.000000</td>\n",
       "    </tr>\n",
       "  </tbody>\n",
       "</table>\n",
       "</div>"
      ],
      "text/plain": [
       "               Unnamed: 0  old_price  new_price        ml  item_rating  \\\n",
       "Unnamed: 0       1.000000  -0.004149  -0.029880  0.002419    -0.039986   \n",
       "old_price       -0.004149   1.000000   0.843291  0.136681     0.076632   \n",
       "new_price       -0.029880   0.843291   1.000000  0.144291     0.105685   \n",
       "ml               0.002419   0.136681   0.144291  1.000000    -0.028908   \n",
       "item_rating     -0.039986   0.076632   0.105685 -0.028908     1.000000   \n",
       "seller_rating    0.057831  -0.089829  -0.009339  0.027020    -0.036039   \n",
       "\n",
       "               seller_rating  \n",
       "Unnamed: 0          0.057831  \n",
       "old_price          -0.089829  \n",
       "new_price          -0.009339  \n",
       "ml                  0.027020  \n",
       "item_rating        -0.036039  \n",
       "seller_rating       1.000000  "
      ]
     },
     "execution_count": 13,
     "metadata": {},
     "output_type": "execute_result"
    }
   ],
   "source": [
    "df.corr() # check for any type of correlation "
   ]
  },
  {
   "cell_type": "markdown",
   "id": "a5f18b21-55c4-4bdf-9c76-19a8fed70915",
   "metadata": {},
   "source": [
    "### 3. Handle Missing Values"
   ]
  },
  {
   "cell_type": "code",
   "execution_count": 15,
   "id": "6cd6c4d0-c618-4757-934c-ce1cd6f68cc8",
   "metadata": {
    "tags": []
   },
   "outputs": [
    {
     "data": {
      "text/plain": [
       "Unnamed: 0            0\n",
       "brand                 0\n",
       "name                  0\n",
       "old_price             0\n",
       "new_price             0\n",
       "ml                    0\n",
       "concentration         0\n",
       "department            0\n",
       "scents                0\n",
       "base_note             0\n",
       "middle_note           0\n",
       "item_rating           0\n",
       "seller                0\n",
       "seller_rating         0\n",
       "num_seller_ratings    0\n",
       "dtype: int64"
      ]
     },
     "execution_count": 15,
     "metadata": {},
     "output_type": "execute_result"
    }
   ],
   "source": [
    "df.isnull().sum() # check for missing values"
   ]
  },
  {
   "cell_type": "markdown",
   "id": "ec0df11e-e256-4d42-a48d-da35be25ed12",
   "metadata": {
    "tags": []
   },
   "source": [
    "BAM we are good!!! no missing values."
   ]
  },
  {
   "cell_type": "markdown",
   "id": "b0086109-9d8d-4850-b84c-861ad25746ab",
   "metadata": {
    "tags": []
   },
   "source": [
    "### 4. Handle outliers"
   ]
  },
  {
   "cell_type": "markdown",
   "id": "9f2d76d5-2c7a-40ca-ad92-77d751715575",
   "metadata": {},
   "source": [
    "**First lets do some Distribution Analysis for these variables:**\n",
    "\n",
    "`old_price`: This variable represents the original price of each perfume, which could have a wide range of values.\n",
    "\n",
    "`new_price`: This variable represents the discounted price of each perfume, which could also have a wide range of values.\n",
    "    \n",
    "`ml`: This variable represents the volume of each perfume in milliliters, which could have a normal or skewed distribution.\n",
    "    \n",
    "`item_rating`: This variable represents the rating of each perfume, which could have a normal or bimodal distribution.\n"
   ]
  },
  {
   "cell_type": "markdown",
   "id": "5997d857-98ed-4f96-9b08-6273ca82f94c",
   "metadata": {},
   "source": [
    "*Side note:*\n",
    "\n",
    "If the variable is **categorical**, you can use `value_counts()` function to get the frequency distribution of each category.\n",
    "\n",
    "If the variable is **numerical**, you can use `hist()` or `distplot()` function from the Seaborn library to create a histogram and visualize its distribution."
   ]
  },
  {
   "cell_type": "code",
   "execution_count": 18,
   "id": "f8c80e10-ae3c-4e75-8d18-0d2b0388d1aa",
   "metadata": {
    "tags": []
   },
   "outputs": [
    {
     "data": {
      "text/plain": [
       "<Axes: >"
      ]
     },
     "execution_count": 18,
     "metadata": {},
     "output_type": "execute_result"
    },
    {
     "data": {
      "image/png": "[encoded data removed]",
      "text/plain": [
       "<Figure size 640x480 with 1 Axes>"
      ]
     },
     "metadata": {},
     "output_type": "display_data"
    }
   ],
   "source": [
    "# plot distribution of variables: old_price\n",
    "df['old_price'].hist(bins=50)"
   ]
  },
  {
   "cell_type": "code",
   "execution_count": 19,
   "id": "00101c1a-e6f5-4ad8-8f8e-ae5138462913",
   "metadata": {
    "tags": []
   },
   "outputs": [
    {
     "data": {
      "text/plain": [
       "<Axes: >"
      ]
     },
     "execution_count": 19,
     "metadata": {},
     "output_type": "execute_result"
    },
    {
     "data": {
      "image/png": "[encoded data removed]",
      "text/plain": [
       "<Figure size 640x480 with 1 Axes>"
      ]
     },
     "metadata": {},
     "output_type": "display_data"
    }
   ],
   "source": [
    "df.boxplot(column='old_price')"
   ]
  },
  {
   "cell_type": "markdown",
   "id": "11e3c1c0-7f93-4bbc-a04c-f423fdaf7a7b",
   "metadata": {},
   "source": [
    "We can conclude a few outliers in this variable. Maybe this is due to some brands having different pricing strategies, and other high-end luxury brands price their products significantly higher than others. MAnother possibility is because of rarity of the product. "
   ]
  },
  {
   "cell_type": "code",
   "execution_count": 20,
   "id": "f1d1e90e-31d4-41e9-9393-e7f6af84eb96",
   "metadata": {
    "tags": []
   },
   "outputs": [
    {
     "data": {
      "text/plain": [
       "<Axes: >"
      ]
     },
     "execution_count": 20,
     "metadata": {},
     "output_type": "execute_result"
    },
    {
     "data": {
      "image/png": "[encoded data removed]",
      "text/plain": [
       "<Figure size 640x480 with 1 Axes>"
      ]
     },
     "metadata": {},
     "output_type": "display_data"
    }
   ],
   "source": [
    "# plot distribution of variables: new_price\n",
    "df['new_price'].hist(bins=50)"
   ]
  },
  {
   "cell_type": "code",
   "execution_count": 21,
   "id": "9117842c-092d-4b51-a53b-97c2a9d452b2",
   "metadata": {
    "tags": []
   },
   "outputs": [
    {
     "data": {
      "text/plain": [
       "<Axes: >"
      ]
     },
     "execution_count": 21,
     "metadata": {},
     "output_type": "execute_result"
    },
    {
     "data": {
      "image/png": "[encoded data removed]",
      "text/plain": [
       "<Figure size 640x480 with 1 Axes>"
      ]
     },
     "metadata": {},
     "output_type": "display_data"
    }
   ],
   "source": [
    "df.boxplot(column='new_price')"
   ]
  },
  {
   "cell_type": "markdown",
   "id": "089bc3cd-b802-4100-91e4-64ee3511b499",
   "metadata": {},
   "source": [
    "It is possible that there are fewer outliers in the new_price variable compared to the old_price variable because the new_price variable represents the discounted price of each perfume."
   ]
  },
  {
   "cell_type": "code",
   "execution_count": 22,
   "id": "9601f1e9-1421-4e8e-bf03-a15667237e46",
   "metadata": {
    "tags": []
   },
   "outputs": [
    {
     "data": {
      "text/plain": [
       "<Axes: >"
      ]
     },
     "execution_count": 22,
     "metadata": {},
     "output_type": "execute_result"
    },
    {
     "data": {
      "image/png": "[encoded data removed]",
      "text/plain": [
       "<Figure size 640x480 with 1 Axes>"
      ]
     },
     "metadata": {},
     "output_type": "display_data"
    }
   ],
   "source": [
    "# plot distribution of variables: ml\n",
    "df['ml'].hist(bins=50)"
   ]
  },
  {
   "cell_type": "code",
   "execution_count": 25,
   "id": "e3242c6a-7435-4adf-9048-f6eb3bda0d93",
   "metadata": {
    "tags": []
   },
   "outputs": [
    {
     "data": {
      "text/plain": [
       "<Axes: >"
      ]
     },
     "execution_count": 25,
     "metadata": {},
     "output_type": "execute_result"
    },
    {
     "data": {
      "image/png": "[encoded data removed]",
      "text/plain": [
       "<Figure size 640x480 with 1 Axes>"
      ]
     },
     "metadata": {},
     "output_type": "display_data"
    }
   ],
   "source": [
    "df.boxplot(column='ml')"
   ]
  },
  {
   "cell_type": "markdown",
   "id": "4135b092-643f-4b6b-9baa-58fe8635bbbb",
   "metadata": {},
   "source": [
    "The ml variable, which represents the volume of each perfume in milliliters, can have outliers for several reasons. First, the volume of perfumes varies based on their type, brand, and packaging design, leading to a wider range of values. Then, errors or inconsistencies in data, such as incorrect volume measurements, can result in outliers. Finally, limited edition or rare perfumes with unique packaging or bottle designs may have volumes significantly higher or lower than the average, resulting in outliers. "
   ]
  },
  {
   "cell_type": "code",
   "execution_count": 23,
   "id": "4b128def-b399-49c5-b1f7-3eee7bedf059",
   "metadata": {
    "tags": []
   },
   "outputs": [
    {
     "data": {
      "text/plain": [
       "<Axes: >"
      ]
     },
     "execution_count": 23,
     "metadata": {},
     "output_type": "execute_result"
    },
    {
     "data": {
      "image/png": "[encoded data removed]",
      "text/plain": [
       "<Figure size 640x480 with 1 Axes>"
      ]
     },
     "metadata": {},
     "output_type": "display_data"
    }
   ],
   "source": [
    "# plot distribution of variables: item_rating\n",
    "df['item_rating'].hist(bins=50)"
   ]
  },
  {
   "cell_type": "code",
   "execution_count": 27,
   "id": "920d3d8b-faed-4e4f-9794-7f9ff675a12b",
   "metadata": {
    "tags": []
   },
   "outputs": [
    {
     "data": {
      "text/plain": [
       "<Axes: >"
      ]
     },
     "execution_count": 27,
     "metadata": {},
     "output_type": "execute_result"
    },
    {
     "data": {
      "image/png": "[encoded data removed]",
      "text/plain": [
       "<Figure size 640x480 with 1 Axes>"
      ]
     },
     "metadata": {},
     "output_type": "display_data"
    }
   ],
   "source": [
    "df.boxplot(column='item_rating')"
   ]
  },
  {
   "cell_type": "markdown",
   "id": "232d3329-e4b1-430e-87de-ce54759e799d",
   "metadata": {},
   "source": [
    "There could be outliers in the item_rating variable because the ratings of perfumes are subjective and can vary significantly depending on personal preferences and biases. Additionally, the distribution of ratings in the population may not necessarily follow a normal distribution."
   ]
  },
  {
   "cell_type": "markdown",
   "id": "60e90cdb-5bf8-43d7-85dc-e7effecc65a1",
   "metadata": {},
   "source": [
    "### 5. Data Transformations "
   ]
  },
  {
   "cell_type": "markdown",
   "id": "24b74b1b-8b29-488a-9e8f-ac56992b0b40",
   "metadata": {},
   "source": [
    "Now that we've done distribution analysis and handled the outliers, its time to do some engineering on **Categorical Variable Analysis**."
   ]
  },
  {
   "cell_type": "code",
   "execution_count": 28,
   "id": "5e9eb285-a3ef-46d3-a4e6-7e7d9df80d93",
   "metadata": {
    "tags": []
   },
   "outputs": [
    {
     "name": "stdout",
     "output_type": "stream",
     "text": [
      "Unnamed: 0              int64\n",
      "brand                  object\n",
      "name                   object\n",
      "old_price             float64\n",
      "new_price             float64\n",
      "ml                      int64\n",
      "concentration          object\n",
      "department             object\n",
      "scents                 object\n",
      "base_note              object\n",
      "middle_note            object\n",
      "item_rating           float64\n",
      "seller                 object\n",
      "seller_rating         float64\n",
      "num_seller_ratings     object\n",
      "dtype: object\n"
     ]
    }
   ],
   "source": [
    "# first we need to check for datatypes\n",
    "print(df.dtypes)"
   ]
  },
  {
   "cell_type": "markdown",
   "id": "73493650-fef4-4bc2-94a4-2c3cc6caaa9f",
   "metadata": {},
   "source": [
    "If the data type is object, then the variable is likely to be categorical."
   ]
  },
  {
   "cell_type": "code",
   "execution_count": 53,
   "id": "5c327ec4-806e-484c-817f-e5084b74a7ee",
   "metadata": {
    "tags": []
   },
   "outputs": [
    {
     "data": {
      "text/html": [
       "<div>\n",
       "<style scoped>\n",
       "    .dataframe tbody tr th:only-of-type {\n",
       "        vertical-align: middle;\n",
       "    }\n",
       "\n",
       "    .dataframe tbody tr th {\n",
       "        vertical-align: top;\n",
       "    }\n",
       "\n",
       "    .dataframe thead th {\n",
       "        text-align: right;\n",
       "    }\n",
       "</style>\n",
       "<table border=\"1\" class=\"dataframe\">\n",
       "  <thead>\n",
       "    <tr style=\"text-align: right;\">\n",
       "      <th></th>\n",
       "      <th>Unnamed: 0</th>\n",
       "      <th>brand</th>\n",
       "      <th>name</th>\n",
       "      <th>old_price</th>\n",
       "      <th>new_price</th>\n",
       "      <th>ml</th>\n",
       "      <th>concentration</th>\n",
       "      <th>department</th>\n",
       "      <th>scents</th>\n",
       "      <th>base_note</th>\n",
       "      <th>middle_note</th>\n",
       "      <th>item_rating</th>\n",
       "      <th>seller</th>\n",
       "      <th>seller_rating</th>\n",
       "      <th>num_seller_ratings</th>\n",
       "      <th>department_Kids Unisex</th>\n",
       "      <th>department_Men</th>\n",
       "      <th>department_Unisex</th>\n",
       "      <th>department_Women</th>\n",
       "    </tr>\n",
       "  </thead>\n",
       "  <tbody>\n",
       "    <tr>\n",
       "      <th>0</th>\n",
       "      <td>0</td>\n",
       "      <td>PACO RABANNE</td>\n",
       "      <td>1 Million Lucky</td>\n",
       "      <td>395.0</td>\n",
       "      <td>244.55</td>\n",
       "      <td>100</td>\n",
       "      <td>EDT</td>\n",
       "      <td>Men</td>\n",
       "      <td>Woody</td>\n",
       "      <td>Oakmoss, Patchouli and Vetiver</td>\n",
       "      <td>Hazelnut, Jasmine, Cashmir Wood, Cedar and Honey</td>\n",
       "      <td>5.0</td>\n",
       "      <td>noon</td>\n",
       "      <td>4.2</td>\n",
       "      <td>98.1K</td>\n",
       "      <td>0</td>\n",
       "      <td>1</td>\n",
       "      <td>0</td>\n",
       "      <td>0</td>\n",
       "    </tr>\n",
       "    <tr>\n",
       "      <th>1</th>\n",
       "      <td>1</td>\n",
       "      <td>Roberto Cavalli</td>\n",
       "      <td>Paradiso Assoluto</td>\n",
       "      <td>415.0</td>\n",
       "      <td>107.95</td>\n",
       "      <td>50</td>\n",
       "      <td>EDP</td>\n",
       "      <td>Women</td>\n",
       "      <td>Floral</td>\n",
       "      <td>Vanilla, Sandalwood And Patchouli</td>\n",
       "      <td>Wild Jasmine and Red Lily</td>\n",
       "      <td>4.8</td>\n",
       "      <td>noon</td>\n",
       "      <td>4.2</td>\n",
       "      <td>98.1K</td>\n",
       "      <td>0</td>\n",
       "      <td>0</td>\n",
       "      <td>0</td>\n",
       "      <td>1</td>\n",
       "    </tr>\n",
       "    <tr>\n",
       "      <th>2</th>\n",
       "      <td>2</td>\n",
       "      <td>S.T.Dupont</td>\n",
       "      <td>Royal Amber</td>\n",
       "      <td>265.0</td>\n",
       "      <td>186.90</td>\n",
       "      <td>100</td>\n",
       "      <td>EDP</td>\n",
       "      <td>Unisex</td>\n",
       "      <td>Arabian</td>\n",
       "      <td>Lemon, Mint and Wood Moss</td>\n",
       "      <td>Sandalwood and Cedar</td>\n",
       "      <td>5.0</td>\n",
       "      <td>noon</td>\n",
       "      <td>4.2</td>\n",
       "      <td>98.1K</td>\n",
       "      <td>0</td>\n",
       "      <td>0</td>\n",
       "      <td>1</td>\n",
       "      <td>0</td>\n",
       "    </tr>\n",
       "    <tr>\n",
       "      <th>3</th>\n",
       "      <td>3</td>\n",
       "      <td>GUESS</td>\n",
       "      <td>Seductive Blue</td>\n",
       "      <td>290.0</td>\n",
       "      <td>103.20</td>\n",
       "      <td>100</td>\n",
       "      <td>EDT</td>\n",
       "      <td>Men</td>\n",
       "      <td>Spicy</td>\n",
       "      <td>Cashmere Wood, Moss And Rippled Sand Accord</td>\n",
       "      <td>Blue Coral Aquaspace Accord And Geranium</td>\n",
       "      <td>3.0</td>\n",
       "      <td>noon</td>\n",
       "      <td>4.2</td>\n",
       "      <td>98.1K</td>\n",
       "      <td>0</td>\n",
       "      <td>1</td>\n",
       "      <td>0</td>\n",
       "      <td>0</td>\n",
       "    </tr>\n",
       "    <tr>\n",
       "      <th>4</th>\n",
       "      <td>4</td>\n",
       "      <td>Roberto Cavalli</td>\n",
       "      <td>Uomo</td>\n",
       "      <td>260.0</td>\n",
       "      <td>94.95</td>\n",
       "      <td>50</td>\n",
       "      <td>EDP</td>\n",
       "      <td>Women</td>\n",
       "      <td>Arabian</td>\n",
       "      <td>Vanille, Benzoin, Tonka Bean</td>\n",
       "      <td>African Orange Flower</td>\n",
       "      <td>4.8</td>\n",
       "      <td>noon</td>\n",
       "      <td>4.2</td>\n",
       "      <td>98.1K</td>\n",
       "      <td>0</td>\n",
       "      <td>0</td>\n",
       "      <td>0</td>\n",
       "      <td>1</td>\n",
       "    </tr>\n",
       "    <tr>\n",
       "      <th>...</th>\n",
       "      <td>...</td>\n",
       "      <td>...</td>\n",
       "      <td>...</td>\n",
       "      <td>...</td>\n",
       "      <td>...</td>\n",
       "      <td>...</td>\n",
       "      <td>...</td>\n",
       "      <td>...</td>\n",
       "      <td>...</td>\n",
       "      <td>...</td>\n",
       "      <td>...</td>\n",
       "      <td>...</td>\n",
       "      <td>...</td>\n",
       "      <td>...</td>\n",
       "      <td>...</td>\n",
       "      <td>...</td>\n",
       "      <td>...</td>\n",
       "      <td>...</td>\n",
       "      <td>...</td>\n",
       "    </tr>\n",
       "    <tr>\n",
       "      <th>998</th>\n",
       "      <td>998</td>\n",
       "      <td>GUESS</td>\n",
       "      <td>Dare</td>\n",
       "      <td>170.0</td>\n",
       "      <td>75.00</td>\n",
       "      <td>100</td>\n",
       "      <td>EDT</td>\n",
       "      <td>Women</td>\n",
       "      <td>Citrus</td>\n",
       "      <td>Coconut Accords, Wood, Musk</td>\n",
       "      <td>Wild Rose, Elegant Jasmine</td>\n",
       "      <td>4.9</td>\n",
       "      <td>noon</td>\n",
       "      <td>4.2</td>\n",
       "      <td>98.1K</td>\n",
       "      <td>0</td>\n",
       "      <td>0</td>\n",
       "      <td>0</td>\n",
       "      <td>1</td>\n",
       "    </tr>\n",
       "    <tr>\n",
       "      <th>999</th>\n",
       "      <td>999</td>\n",
       "      <td>BURBERRY</td>\n",
       "      <td>For Women EDP Natural Sp</td>\n",
       "      <td>378.0</td>\n",
       "      <td>153.75</td>\n",
       "      <td>100</td>\n",
       "      <td>EDT</td>\n",
       "      <td>Women</td>\n",
       "      <td>Fruity</td>\n",
       "      <td>Musk And Vanilla</td>\n",
       "      <td>Woody-Floral, Sandalwood And Cedar</td>\n",
       "      <td>4.8</td>\n",
       "      <td>noon</td>\n",
       "      <td>4.2</td>\n",
       "      <td>98.1K</td>\n",
       "      <td>0</td>\n",
       "      <td>0</td>\n",
       "      <td>0</td>\n",
       "      <td>1</td>\n",
       "    </tr>\n",
       "    <tr>\n",
       "      <th>1000</th>\n",
       "      <td>1000</td>\n",
       "      <td>JOVAN</td>\n",
       "      <td>Musk Cologne Sp</td>\n",
       "      <td>55.0</td>\n",
       "      <td>19.00</td>\n",
       "      <td>59</td>\n",
       "      <td>EDT</td>\n",
       "      <td>Women</td>\n",
       "      <td>Woody</td>\n",
       "      <td>Musk, Amber, Wood</td>\n",
       "      <td>Ylang-ylang</td>\n",
       "      <td>4.7</td>\n",
       "      <td>Cute</td>\n",
       "      <td>3.7</td>\n",
       "      <td>1.9K</td>\n",
       "      <td>0</td>\n",
       "      <td>0</td>\n",
       "      <td>0</td>\n",
       "      <td>1</td>\n",
       "    </tr>\n",
       "    <tr>\n",
       "      <th>1001</th>\n",
       "      <td>1001</td>\n",
       "      <td>SWISS ARABIAN</td>\n",
       "      <td>Layali CPO At</td>\n",
       "      <td>126.0</td>\n",
       "      <td>77.00</td>\n",
       "      <td>15</td>\n",
       "      <td>EDT</td>\n",
       "      <td>Unisex</td>\n",
       "      <td>Arabian</td>\n",
       "      <td>Agarwood and Amber</td>\n",
       "      <td>Ylang-Ylang, Rose and Jasmine</td>\n",
       "      <td>4.0</td>\n",
       "      <td>Swiss Arabian PerfumesPRICE UPDATE WITH 15% VA...</td>\n",
       "      <td>3.9</td>\n",
       "      <td>5</td>\n",
       "      <td>0</td>\n",
       "      <td>0</td>\n",
       "      <td>1</td>\n",
       "      <td>0</td>\n",
       "    </tr>\n",
       "    <tr>\n",
       "      <th>1002</th>\n",
       "      <td>1002</td>\n",
       "      <td>LACOSTE</td>\n",
       "      <td>L.12.12 Blanc-Pure</td>\n",
       "      <td>347.0</td>\n",
       "      <td>94.20</td>\n",
       "      <td>100</td>\n",
       "      <td>EDT</td>\n",
       "      <td>Men</td>\n",
       "      <td>Woody</td>\n",
       "      <td>Virginia Cedar, Leather, Suede, Vetiver</td>\n",
       "      <td>Ylang-Ylang, Tuberose</td>\n",
       "      <td>4.6</td>\n",
       "      <td>noon</td>\n",
       "      <td>4.2</td>\n",
       "      <td>98.1K</td>\n",
       "      <td>0</td>\n",
       "      <td>1</td>\n",
       "      <td>0</td>\n",
       "      <td>0</td>\n",
       "    </tr>\n",
       "  </tbody>\n",
       "</table>\n",
       "<p>1003 rows × 19 columns</p>\n",
       "</div>"
      ],
      "text/plain": [
       "      Unnamed: 0            brand                      name  old_price  \\\n",
       "0              0     PACO RABANNE           1 Million Lucky      395.0   \n",
       "1              1  Roberto Cavalli         Paradiso Assoluto      415.0   \n",
       "2              2       S.T.Dupont               Royal Amber      265.0   \n",
       "3              3            GUESS            Seductive Blue      290.0   \n",
       "4              4  Roberto Cavalli                      Uomo      260.0   \n",
       "...          ...              ...                       ...        ...   \n",
       "998          998            GUESS                      Dare      170.0   \n",
       "999          999         BURBERRY  For Women EDP Natural Sp      378.0   \n",
       "1000        1000            JOVAN           Musk Cologne Sp       55.0   \n",
       "1001        1001    SWISS ARABIAN             Layali CPO At      126.0   \n",
       "1002        1002          LACOSTE        L.12.12 Blanc-Pure      347.0   \n",
       "\n",
       "      new_price   ml concentration department   scents  \\\n",
       "0        244.55  100           EDT        Men    Woody   \n",
       "1        107.95   50           EDP      Women   Floral   \n",
       "2        186.90  100           EDP     Unisex  Arabian   \n",
       "3        103.20  100           EDT        Men    Spicy   \n",
       "4         94.95   50           EDP      Women  Arabian   \n",
       "...         ...  ...           ...        ...      ...   \n",
       "998       75.00  100           EDT      Women   Citrus   \n",
       "999      153.75  100           EDT      Women   Fruity   \n",
       "1000      19.00   59           EDT      Women    Woody   \n",
       "1001      77.00   15           EDT     Unisex  Arabian   \n",
       "1002      94.20  100           EDT        Men    Woody   \n",
       "\n",
       "                                        base_note  \\\n",
       "0                  Oakmoss, Patchouli and Vetiver   \n",
       "1               Vanilla, Sandalwood And Patchouli   \n",
       "2                       Lemon, Mint and Wood Moss   \n",
       "3     Cashmere Wood, Moss And Rippled Sand Accord   \n",
       "4                    Vanille, Benzoin, Tonka Bean   \n",
       "...                                           ...   \n",
       "998                   Coconut Accords, Wood, Musk   \n",
       "999                              Musk And Vanilla   \n",
       "1000                            Musk, Amber, Wood   \n",
       "1001                           Agarwood and Amber   \n",
       "1002      Virginia Cedar, Leather, Suede, Vetiver   \n",
       "\n",
       "                                           middle_note  item_rating  \\\n",
       "0     Hazelnut, Jasmine, Cashmir Wood, Cedar and Honey          5.0   \n",
       "1                            Wild Jasmine and Red Lily          4.8   \n",
       "2                                 Sandalwood and Cedar          5.0   \n",
       "3             Blue Coral Aquaspace Accord And Geranium          3.0   \n",
       "4                                African Orange Flower          4.8   \n",
       "...                                                ...          ...   \n",
       "998                         Wild Rose, Elegant Jasmine          4.9   \n",
       "999                 Woody-Floral, Sandalwood And Cedar          4.8   \n",
       "1000                                       Ylang-ylang          4.7   \n",
       "1001                     Ylang-Ylang, Rose and Jasmine          4.0   \n",
       "1002                             Ylang-Ylang, Tuberose          4.6   \n",
       "\n",
       "                                                 seller  seller_rating  \\\n",
       "0                                                  noon            4.2   \n",
       "1                                                  noon            4.2   \n",
       "2                                                  noon            4.2   \n",
       "3                                                  noon            4.2   \n",
       "4                                                  noon            4.2   \n",
       "...                                                 ...            ...   \n",
       "998                                                noon            4.2   \n",
       "999                                                noon            4.2   \n",
       "1000                                               Cute            3.7   \n",
       "1001  Swiss Arabian PerfumesPRICE UPDATE WITH 15% VA...            3.9   \n",
       "1002                                               noon            4.2   \n",
       "\n",
       "     num_seller_ratings  department_Kids Unisex  department_Men  \\\n",
       "0                 98.1K                       0               1   \n",
       "1                 98.1K                       0               0   \n",
       "2                 98.1K                       0               0   \n",
       "3                 98.1K                       0               1   \n",
       "4                 98.1K                       0               0   \n",
       "...                 ...                     ...             ...   \n",
       "998               98.1K                       0               0   \n",
       "999               98.1K                       0               0   \n",
       "1000               1.9K                       0               0   \n",
       "1001                  5                       0               0   \n",
       "1002              98.1K                       0               1   \n",
       "\n",
       "      department_Unisex  department_Women  \n",
       "0                     0                 0  \n",
       "1                     0                 1  \n",
       "2                     1                 0  \n",
       "3                     0                 0  \n",
       "4                     0                 1  \n",
       "...                 ...               ...  \n",
       "998                   0                 1  \n",
       "999                   0                 1  \n",
       "1000                  0                 1  \n",
       "1001                  1                 0  \n",
       "1002                  0                 0  \n",
       "\n",
       "[1003 rows x 19 columns]"
      ]
     },
     "execution_count": 53,
     "metadata": {},
     "output_type": "execute_result"
    }
   ],
   "source": [
    "# use one-hot encoding to convert department into a numerical variable (0 = false, 1 = true)\n",
    "df_encoded = pd.concat([df, pd.get_dummies(df['department'], prefix='department')], axis=1)\n",
    "df_encoded"
   ]
  },
  {
   "cell_type": "code",
   "execution_count": 54,
   "id": "4b3e45b5-6a8a-4d9c-9e52-b3215cbd698b",
   "metadata": {
    "tags": []
   },
   "outputs": [
    {
     "data": {
      "text/html": [
       "<div>\n",
       "<style scoped>\n",
       "    .dataframe tbody tr th:only-of-type {\n",
       "        vertical-align: middle;\n",
       "    }\n",
       "\n",
       "    .dataframe tbody tr th {\n",
       "        vertical-align: top;\n",
       "    }\n",
       "\n",
       "    .dataframe thead th {\n",
       "        text-align: right;\n",
       "    }\n",
       "</style>\n",
       "<table border=\"1\" class=\"dataframe\">\n",
       "  <thead>\n",
       "    <tr style=\"text-align: right;\">\n",
       "      <th></th>\n",
       "      <th>Unnamed: 0</th>\n",
       "      <th>brand</th>\n",
       "      <th>name</th>\n",
       "      <th>old_price</th>\n",
       "      <th>new_price</th>\n",
       "      <th>ml</th>\n",
       "      <th>concentration</th>\n",
       "      <th>department</th>\n",
       "      <th>scents</th>\n",
       "      <th>base_note</th>\n",
       "      <th>...</th>\n",
       "      <th>num_seller_ratings</th>\n",
       "      <th>department_Kids Unisex</th>\n",
       "      <th>department_Men</th>\n",
       "      <th>department_Unisex</th>\n",
       "      <th>department_Women</th>\n",
       "      <th>concentration_EDC</th>\n",
       "      <th>concentration_EDP</th>\n",
       "      <th>concentration_EDT</th>\n",
       "      <th>concentration_Oil</th>\n",
       "      <th>concentration_PDT</th>\n",
       "    </tr>\n",
       "  </thead>\n",
       "  <tbody>\n",
       "    <tr>\n",
       "      <th>0</th>\n",
       "      <td>0</td>\n",
       "      <td>PACO RABANNE</td>\n",
       "      <td>1 Million Lucky</td>\n",
       "      <td>395.0</td>\n",
       "      <td>244.55</td>\n",
       "      <td>100</td>\n",
       "      <td>EDT</td>\n",
       "      <td>Men</td>\n",
       "      <td>Woody</td>\n",
       "      <td>Oakmoss, Patchouli and Vetiver</td>\n",
       "      <td>...</td>\n",
       "      <td>98.1K</td>\n",
       "      <td>0</td>\n",
       "      <td>1</td>\n",
       "      <td>0</td>\n",
       "      <td>0</td>\n",
       "      <td>0</td>\n",
       "      <td>0</td>\n",
       "      <td>1</td>\n",
       "      <td>0</td>\n",
       "      <td>0</td>\n",
       "    </tr>\n",
       "    <tr>\n",
       "      <th>1</th>\n",
       "      <td>1</td>\n",
       "      <td>Roberto Cavalli</td>\n",
       "      <td>Paradiso Assoluto</td>\n",
       "      <td>415.0</td>\n",
       "      <td>107.95</td>\n",
       "      <td>50</td>\n",
       "      <td>EDP</td>\n",
       "      <td>Women</td>\n",
       "      <td>Floral</td>\n",
       "      <td>Vanilla, Sandalwood And Patchouli</td>\n",
       "      <td>...</td>\n",
       "      <td>98.1K</td>\n",
       "      <td>0</td>\n",
       "      <td>0</td>\n",
       "      <td>0</td>\n",
       "      <td>1</td>\n",
       "      <td>0</td>\n",
       "      <td>1</td>\n",
       "      <td>0</td>\n",
       "      <td>0</td>\n",
       "      <td>0</td>\n",
       "    </tr>\n",
       "    <tr>\n",
       "      <th>2</th>\n",
       "      <td>2</td>\n",
       "      <td>S.T.Dupont</td>\n",
       "      <td>Royal Amber</td>\n",
       "      <td>265.0</td>\n",
       "      <td>186.90</td>\n",
       "      <td>100</td>\n",
       "      <td>EDP</td>\n",
       "      <td>Unisex</td>\n",
       "      <td>Arabian</td>\n",
       "      <td>Lemon, Mint and Wood Moss</td>\n",
       "      <td>...</td>\n",
       "      <td>98.1K</td>\n",
       "      <td>0</td>\n",
       "      <td>0</td>\n",
       "      <td>1</td>\n",
       "      <td>0</td>\n",
       "      <td>0</td>\n",
       "      <td>1</td>\n",
       "      <td>0</td>\n",
       "      <td>0</td>\n",
       "      <td>0</td>\n",
       "    </tr>\n",
       "    <tr>\n",
       "      <th>3</th>\n",
       "      <td>3</td>\n",
       "      <td>GUESS</td>\n",
       "      <td>Seductive Blue</td>\n",
       "      <td>290.0</td>\n",
       "      <td>103.20</td>\n",
       "      <td>100</td>\n",
       "      <td>EDT</td>\n",
       "      <td>Men</td>\n",
       "      <td>Spicy</td>\n",
       "      <td>Cashmere Wood, Moss And Rippled Sand Accord</td>\n",
       "      <td>...</td>\n",
       "      <td>98.1K</td>\n",
       "      <td>0</td>\n",
       "      <td>1</td>\n",
       "      <td>0</td>\n",
       "      <td>0</td>\n",
       "      <td>0</td>\n",
       "      <td>0</td>\n",
       "      <td>1</td>\n",
       "      <td>0</td>\n",
       "      <td>0</td>\n",
       "    </tr>\n",
       "    <tr>\n",
       "      <th>4</th>\n",
       "      <td>4</td>\n",
       "      <td>Roberto Cavalli</td>\n",
       "      <td>Uomo</td>\n",
       "      <td>260.0</td>\n",
       "      <td>94.95</td>\n",
       "      <td>50</td>\n",
       "      <td>EDP</td>\n",
       "      <td>Women</td>\n",
       "      <td>Arabian</td>\n",
       "      <td>Vanille, Benzoin, Tonka Bean</td>\n",
       "      <td>...</td>\n",
       "      <td>98.1K</td>\n",
       "      <td>0</td>\n",
       "      <td>0</td>\n",
       "      <td>0</td>\n",
       "      <td>1</td>\n",
       "      <td>0</td>\n",
       "      <td>1</td>\n",
       "      <td>0</td>\n",
       "      <td>0</td>\n",
       "      <td>0</td>\n",
       "    </tr>\n",
       "    <tr>\n",
       "      <th>...</th>\n",
       "      <td>...</td>\n",
       "      <td>...</td>\n",
       "      <td>...</td>\n",
       "      <td>...</td>\n",
       "      <td>...</td>\n",
       "      <td>...</td>\n",
       "      <td>...</td>\n",
       "      <td>...</td>\n",
       "      <td>...</td>\n",
       "      <td>...</td>\n",
       "      <td>...</td>\n",
       "      <td>...</td>\n",
       "      <td>...</td>\n",
       "      <td>...</td>\n",
       "      <td>...</td>\n",
       "      <td>...</td>\n",
       "      <td>...</td>\n",
       "      <td>...</td>\n",
       "      <td>...</td>\n",
       "      <td>...</td>\n",
       "      <td>...</td>\n",
       "    </tr>\n",
       "    <tr>\n",
       "      <th>998</th>\n",
       "      <td>998</td>\n",
       "      <td>GUESS</td>\n",
       "      <td>Dare</td>\n",
       "      <td>170.0</td>\n",
       "      <td>75.00</td>\n",
       "      <td>100</td>\n",
       "      <td>EDT</td>\n",
       "      <td>Women</td>\n",
       "      <td>Citrus</td>\n",
       "      <td>Coconut Accords, Wood, Musk</td>\n",
       "      <td>...</td>\n",
       "      <td>98.1K</td>\n",
       "      <td>0</td>\n",
       "      <td>0</td>\n",
       "      <td>0</td>\n",
       "      <td>1</td>\n",
       "      <td>0</td>\n",
       "      <td>0</td>\n",
       "      <td>1</td>\n",
       "      <td>0</td>\n",
       "      <td>0</td>\n",
       "    </tr>\n",
       "    <tr>\n",
       "      <th>999</th>\n",
       "      <td>999</td>\n",
       "      <td>BURBERRY</td>\n",
       "      <td>For Women EDP Natural Sp</td>\n",
       "      <td>378.0</td>\n",
       "      <td>153.75</td>\n",
       "      <td>100</td>\n",
       "      <td>EDT</td>\n",
       "      <td>Women</td>\n",
       "      <td>Fruity</td>\n",
       "      <td>Musk And Vanilla</td>\n",
       "      <td>...</td>\n",
       "      <td>98.1K</td>\n",
       "      <td>0</td>\n",
       "      <td>0</td>\n",
       "      <td>0</td>\n",
       "      <td>1</td>\n",
       "      <td>0</td>\n",
       "      <td>0</td>\n",
       "      <td>1</td>\n",
       "      <td>0</td>\n",
       "      <td>0</td>\n",
       "    </tr>\n",
       "    <tr>\n",
       "      <th>1000</th>\n",
       "      <td>1000</td>\n",
       "      <td>JOVAN</td>\n",
       "      <td>Musk Cologne Sp</td>\n",
       "      <td>55.0</td>\n",
       "      <td>19.00</td>\n",
       "      <td>59</td>\n",
       "      <td>EDT</td>\n",
       "      <td>Women</td>\n",
       "      <td>Woody</td>\n",
       "      <td>Musk, Amber, Wood</td>\n",
       "      <td>...</td>\n",
       "      <td>1.9K</td>\n",
       "      <td>0</td>\n",
       "      <td>0</td>\n",
       "      <td>0</td>\n",
       "      <td>1</td>\n",
       "      <td>0</td>\n",
       "      <td>0</td>\n",
       "      <td>1</td>\n",
       "      <td>0</td>\n",
       "      <td>0</td>\n",
       "    </tr>\n",
       "    <tr>\n",
       "      <th>1001</th>\n",
       "      <td>1001</td>\n",
       "      <td>SWISS ARABIAN</td>\n",
       "      <td>Layali CPO At</td>\n",
       "      <td>126.0</td>\n",
       "      <td>77.00</td>\n",
       "      <td>15</td>\n",
       "      <td>EDT</td>\n",
       "      <td>Unisex</td>\n",
       "      <td>Arabian</td>\n",
       "      <td>Agarwood and Amber</td>\n",
       "      <td>...</td>\n",
       "      <td>5</td>\n",
       "      <td>0</td>\n",
       "      <td>0</td>\n",
       "      <td>1</td>\n",
       "      <td>0</td>\n",
       "      <td>0</td>\n",
       "      <td>0</td>\n",
       "      <td>1</td>\n",
       "      <td>0</td>\n",
       "      <td>0</td>\n",
       "    </tr>\n",
       "    <tr>\n",
       "      <th>1002</th>\n",
       "      <td>1002</td>\n",
       "      <td>LACOSTE</td>\n",
       "      <td>L.12.12 Blanc-Pure</td>\n",
       "      <td>347.0</td>\n",
       "      <td>94.20</td>\n",
       "      <td>100</td>\n",
       "      <td>EDT</td>\n",
       "      <td>Men</td>\n",
       "      <td>Woody</td>\n",
       "      <td>Virginia Cedar, Leather, Suede, Vetiver</td>\n",
       "      <td>...</td>\n",
       "      <td>98.1K</td>\n",
       "      <td>0</td>\n",
       "      <td>1</td>\n",
       "      <td>0</td>\n",
       "      <td>0</td>\n",
       "      <td>0</td>\n",
       "      <td>0</td>\n",
       "      <td>1</td>\n",
       "      <td>0</td>\n",
       "      <td>0</td>\n",
       "    </tr>\n",
       "  </tbody>\n",
       "</table>\n",
       "<p>1003 rows × 24 columns</p>\n",
       "</div>"
      ],
      "text/plain": [
       "      Unnamed: 0            brand                      name  old_price  \\\n",
       "0              0     PACO RABANNE           1 Million Lucky      395.0   \n",
       "1              1  Roberto Cavalli         Paradiso Assoluto      415.0   \n",
       "2              2       S.T.Dupont               Royal Amber      265.0   \n",
       "3              3            GUESS            Seductive Blue      290.0   \n",
       "4              4  Roberto Cavalli                      Uomo      260.0   \n",
       "...          ...              ...                       ...        ...   \n",
       "998          998            GUESS                      Dare      170.0   \n",
       "999          999         BURBERRY  For Women EDP Natural Sp      378.0   \n",
       "1000        1000            JOVAN           Musk Cologne Sp       55.0   \n",
       "1001        1001    SWISS ARABIAN             Layali CPO At      126.0   \n",
       "1002        1002          LACOSTE        L.12.12 Blanc-Pure      347.0   \n",
       "\n",
       "      new_price   ml concentration department   scents  \\\n",
       "0        244.55  100           EDT        Men    Woody   \n",
       "1        107.95   50           EDP      Women   Floral   \n",
       "2        186.90  100           EDP     Unisex  Arabian   \n",
       "3        103.20  100           EDT        Men    Spicy   \n",
       "4         94.95   50           EDP      Women  Arabian   \n",
       "...         ...  ...           ...        ...      ...   \n",
       "998       75.00  100           EDT      Women   Citrus   \n",
       "999      153.75  100           EDT      Women   Fruity   \n",
       "1000      19.00   59           EDT      Women    Woody   \n",
       "1001      77.00   15           EDT     Unisex  Arabian   \n",
       "1002      94.20  100           EDT        Men    Woody   \n",
       "\n",
       "                                        base_note  ... num_seller_ratings  \\\n",
       "0                  Oakmoss, Patchouli and Vetiver  ...              98.1K   \n",
       "1               Vanilla, Sandalwood And Patchouli  ...              98.1K   \n",
       "2                       Lemon, Mint and Wood Moss  ...              98.1K   \n",
       "3     Cashmere Wood, Moss And Rippled Sand Accord  ...              98.1K   \n",
       "4                    Vanille, Benzoin, Tonka Bean  ...              98.1K   \n",
       "...                                           ...  ...                ...   \n",
       "998                   Coconut Accords, Wood, Musk  ...              98.1K   \n",
       "999                              Musk And Vanilla  ...              98.1K   \n",
       "1000                            Musk, Amber, Wood  ...               1.9K   \n",
       "1001                           Agarwood and Amber  ...                  5   \n",
       "1002      Virginia Cedar, Leather, Suede, Vetiver  ...              98.1K   \n",
       "\n",
       "      department_Kids Unisex department_Men  department_Unisex  \\\n",
       "0                          0              1                  0   \n",
       "1                          0              0                  0   \n",
       "2                          0              0                  1   \n",
       "3                          0              1                  0   \n",
       "4                          0              0                  0   \n",
       "...                      ...            ...                ...   \n",
       "998                        0              0                  0   \n",
       "999                        0              0                  0   \n",
       "1000                       0              0                  0   \n",
       "1001                       0              0                  1   \n",
       "1002                       0              1                  0   \n",
       "\n",
       "     department_Women  concentration_EDC  concentration_EDP  \\\n",
       "0                   0                  0                  0   \n",
       "1                   1                  0                  1   \n",
       "2                   0                  0                  1   \n",
       "3                   0                  0                  0   \n",
       "4                   1                  0                  1   \n",
       "...               ...                ...                ...   \n",
       "998                 1                  0                  0   \n",
       "999                 1                  0                  0   \n",
       "1000                1                  0                  0   \n",
       "1001                0                  0                  0   \n",
       "1002                0                  0                  0   \n",
       "\n",
       "      concentration_EDT  concentration_Oil  concentration_PDT  \n",
       "0                     1                  0                  0  \n",
       "1                     0                  0                  0  \n",
       "2                     0                  0                  0  \n",
       "3                     1                  0                  0  \n",
       "4                     0                  0                  0  \n",
       "...                 ...                ...                ...  \n",
       "998                   1                  0                  0  \n",
       "999                   1                  0                  0  \n",
       "1000                  1                  0                  0  \n",
       "1001                  1                  0                  0  \n",
       "1002                  1                  0                  0  \n",
       "\n",
       "[1003 rows x 24 columns]"
      ]
     },
     "execution_count": 54,
     "metadata": {},
     "output_type": "execute_result"
    }
   ],
   "source": [
    "# Perform one-hot encoding on the concentration column (0 = false, 1 = true)\n",
    "df_encoded = pd.concat([df_encoded, pd.get_dummies(df_encoded['concentration'], prefix='concentration')], axis=1)\n",
    "df_encoded"
   ]
  },
  {
   "cell_type": "markdown",
   "id": "20146974-96e4-4093-b9a4-d2392104a62e",
   "metadata": {},
   "source": [
    "### 6. Data Viz"
   ]
  },
  {
   "cell_type": "markdown",
   "id": "d7a4dcf1-ef31-4bd5-9568-bbf400f12f8e",
   "metadata": {},
   "source": [
    "Now time for the fun stuff!!!"
   ]
  },
  {
   "cell_type": "code",
   "execution_count": 58,
   "id": "ddc0787c-272b-4ac0-863a-e8b8d3ca0262",
   "metadata": {
    "tags": []
   },
   "outputs": [
    {
     "name": "stdout",
     "output_type": "stream",
     "text": [
      "Average old price for men: $ 303.7473441108545\n",
      "Average new price for men: $ 138.89891454965357\n",
      "Average discount for men: $ 54.27156245390526\n"
     ]
    }
   ],
   "source": [
    "# Filter the data to include only products marketed towards men\n",
    "men_df = df[df['department'] == 'Men']\n",
    "\n",
    "# Calculate the average old price and new price for men\n",
    "avg_old_price = men_df['old_price'].mean()\n",
    "avg_new_price = men_df['new_price'].mean()\n",
    "\n",
    "# Calculate the average discount for men\n",
    "avg_discount = (avg_old_price - avg_new_price) / avg_old_price * 100\n",
    "\n",
    "print(\"Average old price for men: $\", avg_old_price)\n",
    "print(\"Average new price for men: $\", avg_new_price)\n",
    "print(\"Average discount for men: $\", avg_discount)"
   ]
  },
  {
   "cell_type": "code",
   "execution_count": 59,
   "id": "6c60aa26-e062-4397-b2fc-080dff1e440e",
   "metadata": {
    "tags": []
   },
   "outputs": [
    {
     "name": "stdout",
     "output_type": "stream",
     "text": [
      "Average old price for women: $ 349.4083499005964\n",
      "Average new price for women: $ 162.918986083499\n",
      "Average discount for women: $ 53.37289846397546\n"
     ]
    }
   ],
   "source": [
    "# Filter the data to include only products marketed towards Women\n",
    "women_df = df[df['department'] == 'Women']\n",
    "\n",
    "# Calculate the average old price and new price for men\n",
    "avg_old_price = women_df['old_price'].mean()\n",
    "avg_new_price = women_df['new_price'].mean()\n",
    "\n",
    "# Calculate the average discount for men\n",
    "avg_discount = (avg_old_price - avg_new_price) / avg_old_price * 100\n",
    "\n",
    "print(\"Average old price for women: $\", avg_old_price)\n",
    "print(\"Average new price for women: $\", avg_new_price)\n",
    "print(\"Average discount for women: $\", avg_discount)"
   ]
  },
  {
   "cell_type": "markdown",
   "id": "c51f629c-b9ab-44f9-b645-f701687c3b66",
   "metadata": {},
   "source": [
    "Well, will you look at that. We can clearly see that the average prices in Women products are significantly higher than those of Men's. The reason maybe due to supply and demand, women tends to spend more than men then it makes perfect sense for this reason."
   ]
  },
  {
   "cell_type": "code",
   "execution_count": 131,
   "id": "697a69e7-1bf1-4762-9e5b-d9f2bf407146",
   "metadata": {
    "tags": []
   },
   "outputs": [
    {
     "data": {
      "image/png": "[encoded data removed]",
      "text/plain": [
       "<Figure size 500x400 with 1 Axes>"
      ]
     },
     "metadata": {},
     "output_type": "display_data"
    }
   ],
   "source": [
    "# we can further visualize this Price Reduction with a bar chart\n",
    "import numpy as np\n",
    "import matplotlib.pyplot as plt\n",
    "import seaborn as sns\n",
    "\n",
    "avg_old_price = df.groupby('department')['old_price'].mean().reset_index()\n",
    "avg_new_price = df.groupby('department')['new_price'].mean().reset_index()\n",
    "\n",
    "# Set the figure size\n",
    "plt.figure(figsize=(5,4))\n",
    "\n",
    "sns.barplot(x=\"department\", y=\"old_price\", data=avg_old_price, color='red', label='Average Price Reduction')\n",
    "sns.barplot(x=\"department\", y=\"new_price\", data=avg_new_price, color='green', label='Average New Price')\n",
    "sns.set_context(\"talk\")\n",
    "plt.title('Price Reduction', fontsize=12)\n",
    "plt.xlabel('Category', fontsize=12)\n",
    "plt.ylabel('Price', fontsize=12)\n",
    "plt.xticks(fontsize=10) # adjust font size of category labels\n",
    "plt.legend(bbox_to_anchor=(0.5, -0.2), loc='upper center', ncol=2, fontsize=8)\n",
    "plt.show()"
   ]
  },
  {
   "cell_type": "code",
   "execution_count": 132,
   "id": "47a79fab-68a6-4f52-a314-5f724724ec93",
   "metadata": {
    "tags": []
   },
   "outputs": [
    {
     "data": {
      "image/png": "[encoded data removed]",
      "text/plain": [
       "<Figure size 640x480 with 1 Axes>"
      ]
     },
     "metadata": {},
     "output_type": "display_data"
    }
   ],
   "source": [
    "# Create a new column called price_per_ml\n",
    "df['price_per_ml'] = df['new_price'] / df['ml']\n",
    "\n",
    "departments = ['Men', 'Women', 'Unisex']\n",
    "\n",
    "# visualize data\n",
    "plt.hist(df.loc[df['department'] == 'Men', 'price_per_ml'], alpha=0.4, label='Men', density=False, bins=20)\n",
    "plt.hist(df.loc[df['department'] == 'Women', 'price_per_ml'], alpha=0.4, label='Women', density=False, bins=20)\n",
    "plt.hist(df.loc[df['department'] == 'Unisex', 'price_per_ml'], alpha=0.4, label='Unisex', density=False, bins=20)\n",
    "plt.yscale('log')\n",
    "plt.xticks(ticks=[0,2,4,6,8,10,12], labels=None)\n",
    "plt.title('Comparison of the Price per ml')\n",
    "plt.xlabel('Price per ml')\n",
    "plt.ylabel('Number of Items')\n",
    "plt.legend()\n",
    "plt.show()"
   ]
  },
  {
   "cell_type": "code",
   "execution_count": 154,
   "id": "dda8afa2-694b-4002-819d-41623c6ed8a2",
   "metadata": {
    "tags": []
   },
   "outputs": [
    {
     "data": {
      "image/png": "[encoded data removed]",
      "text/plain": [
       "<Figure size 678.958x500 with 1 Axes>"
      ]
     },
     "metadata": {},
     "output_type": "display_data"
    }
   ],
   "source": [
    "# lets see if there is a relationship between price and ratings\n",
    "import numpy as np\n",
    "from sklearn.linear_model import LinearRegression\n",
    "\n",
    "# Fit linear regression model\n",
    "X = df['price_per_ml'].values.reshape(-1, 1)\n",
    "y = df['item_rating'].values.reshape(-1, 1)\n",
    "reg = LinearRegression().fit(X, y)\n",
    "\n",
    "# Calculate regression line\n",
    "fx = np.array([df['price_per_ml'].min(), df['price_per_ml'].max()]).reshape(-1, 1)\n",
    "fy = reg.predict(fx)\n",
    "\n",
    "# Add jitter to ratings\n",
    "rate_jitter = df['item_rating'] + np.random.normal(0, 0.1, size=len(df))\n",
    "\n",
    "# Plot scatter plot with regression line\n",
    "sns.relplot(x = df['price_per_ml'], y = rate_jitter, kind = 'scatter', alpha = 0.2, size = df['price_per_ml'])\n",
    "plt.plot(fx, fy, '--', color = 'red')\n",
    "plt.xscale('log')\n",
    "plt.xticks(ticks = [0.1,10], labels=None)\n",
    "plt.title('Regression between the Price and the Ratings')\n",
    "plt.xlabel('Price per ml')\n",
    "plt.ylabel('Stars')\n",
    "plt.show()"
   ]
  },
  {
   "cell_type": "code",
   "execution_count": 162,
   "id": "11b5a11f-cdd5-4907-a160-06b468454b47",
   "metadata": {
    "tags": []
   },
   "outputs": [
    {
     "name": "stdout",
     "output_type": "stream",
     "text": [
      "Top 10 scents for Men:  scents\n",
      "Jasmine           5.000000\n",
      "Sweet Aromatic    4.800000\n",
      "Oriental          4.625000\n",
      "Musk              4.600000\n",
      "Spicy             4.573333\n",
      "Citrus            4.523729\n",
      "Woody             4.497794\n",
      "Vanilla           4.476923\n",
      "Fruity            4.444444\n",
      "Fresh             4.342857\n",
      "Name: item_rating, dtype: float64\n"
     ]
    }
   ],
   "source": [
    "# Top 10 scents for Men\n",
    "\n",
    "# Subset the DataFrame to only include men's fragrances\n",
    "men_df = df[df['department'] == 'Men']\n",
    "\n",
    "# Group by scent name and calculate the average rating for each scent\n",
    "scent_ratings = men_df.groupby('scents')['item_rating'].mean()\n",
    "\n",
    "# Sort the scents by their average rating in descending order\n",
    "top_scents = scent_ratings.sort_values(ascending=False)\n",
    "\n",
    "# Select the top 10 scents from the sorted list\n",
    "top_10_scents = top_scents.head(10)\n",
    "\n",
    "# Print the top 10 scents\n",
    "print('Top 10 scents for Men: ', + top_10_scents)"
   ]
  },
  {
   "cell_type": "code",
   "execution_count": 199,
   "id": "8d95f243-b4e0-4449-afd4-5a4c157aa4cb",
   "metadata": {
    "tags": []
   },
   "outputs": [
    {
     "name": "stdout",
     "output_type": "stream",
     "text": [
      "Top 10 scents for Women:  scents\n",
      "Oriental, Floral       5.000000\n",
      "Arabian                4.736842\n",
      "Vanilla                4.681818\n",
      "Fruity                 4.622034\n",
      "Citrus                 4.613793\n",
      "Floral                 4.612644\n",
      "Sandalwood             4.600000\n",
      "Fresh                  4.558333\n",
      "Floral and Oriental    4.550000\n",
      "Woody                  4.526829\n",
      "Musk                   4.500000\n",
      "Spicy                  4.488235\n",
      "Oriental               4.447368\n",
      "Clean                  4.300000\n",
      "Jasmine                3.575000\n",
      "Name: item_rating, dtype: float64\n"
     ]
    }
   ],
   "source": [
    "# Top 10 scents for Women\n",
    "\n",
    "# Subset the DataFrame to only include Women's fragrances\n",
    "women_df = df[df['department'] == 'Women']\n",
    "\n",
    "# Group by scent name and calculate the average rating for each scent\n",
    "scent_ratings = women_df.groupby('scents')['item_rating'].mean()\n",
    "\n",
    "# Sort the scents by their average rating in descending order\n",
    "top_scents = scent_ratings.sort_values(ascending=False)\n",
    "\n",
    "# Select the top 10 scents from the sorted list\n",
    "top_10_scents = top_scents.head(15)\n",
    "\n",
    "# Print the top 10 scents\n",
    "print('Top 10 scents for Women: ', + top_10_scents)"
   ]
  },
  {
   "cell_type": "markdown",
   "id": "3d462f02-4203-4371-acff-b4289f879156",
   "metadata": {},
   "source": [
    "Now time to plot both graphs but first we need to check for frequency of each notes."
   ]
  },
  {
   "cell_type": "code",
   "execution_count": 221,
   "id": "e360cbb9-ec16-4e98-8cb6-ef6c32b3d0ac",
   "metadata": {
    "tags": []
   },
   "outputs": [
    {
     "name": "stdout",
     "output_type": "stream",
     "text": [
      "Top 10 notes for Women:\n",
      "jasmine 285\n",
      "musk 271\n",
      "vanilla 207\n",
      "rose 204\n",
      "sandalwood 190\n",
      "amber 174\n",
      "patchouli 135\n",
      "cedar 90\n",
      "blossom 80\n",
      "orange 79\n"
     ]
    }
   ],
   "source": [
    "# Count frequencies of each note for Women\n",
    "\n",
    "# Subset the DataFrame to only include Women's fragrances\n",
    "women_df = df[df['department'] == 'Women']\n",
    "\n",
    "# Get the notes for each fragrance in the top 10 scents\n",
    "top_scents_notes = women_df[women_df['scents'].isin(top_10_scents.index)][['base_note', 'middle_note']]\n",
    "\n",
    "# Concatenate the base and middle notes for each fragrance\n",
    "top_scents_notes['notes'] = top_scents_notes['base_note'] + ' ' + top_scents_notes['middle_note']\n",
    "\n",
    "# Count the frequency of each note across all fragrances in the top 10 scents\n",
    "note_counts = {}\n",
    "for notes in top_scents_notes['notes']:\n",
    "    for note in notes.replace('/', ' ').replace(',', ' ').split():\n",
    "        note = note.lower()\n",
    "        if note == 'and':\n",
    "            continue  # skip counting the \"and\" note\n",
    "        if note in note_counts:\n",
    "            note_counts[note] += 1\n",
    "        else:\n",
    "            note_counts[note] = 1\n",
    "\n",
    "# Sort the notes by their frequency in descending order\n",
    "sorted_notes = sorted(note_counts.items(), key=lambda x: x[1], reverse=True)\n",
    "\n",
    "# Print the top 10 notes\n",
    "print('Top 10 notes for Women:')\n",
    "for note, count in sorted_notes[:10]:\n",
    "    print(note, count)"
   ]
  },
  {
   "cell_type": "code",
   "execution_count": 222,
   "id": "f2ec9d2a-ec77-43de-888d-af7db4ff78e5",
   "metadata": {
    "tags": []
   },
   "outputs": [
    {
     "data": {
      "image/png": "[encoded data removed]",
      "text/plain": [
       "<Figure size 1000x600 with 1 Axes>"
      ]
     },
     "metadata": {},
     "output_type": "display_data"
    }
   ],
   "source": [
    "# plot a horizontal bar\n",
    "colors = ['pink', 'red', 'yellow', 'green', 'gray', 'purple', 'blue', 'brown', 'orange', 'black']\n",
    "\n",
    "# Plot a horizontal bar with colored bars\n",
    "fig, ax = plt.subplots(figsize=(10, 6))\n",
    "ax.barh([note for note, count in sorted_notes[:10]], [count for note, count in sorted_notes[:10]], color=colors)\n",
    "ax.invert_yaxis()\n",
    "ax.set_xlabel('Frequency')\n",
    "ax.set_title('Top 10 notes for Women')\n",
    "plt.show()"
   ]
  },
  {
   "cell_type": "code",
   "execution_count": 218,
   "id": "53652189-9b41-49c7-a03f-2f679e132c31",
   "metadata": {
    "tags": []
   },
   "outputs": [
    {
     "name": "stdout",
     "output_type": "stream",
     "text": [
      "Top 10 notes for Men:\n",
      "patchouli 170\n",
      "cedar 166\n",
      "amber 165\n",
      "musk 162\n",
      "sandalwood 132\n",
      "vetiver 124\n",
      "tonka 113\n",
      "jasmine 96\n",
      "geranium 91\n",
      "bean 84\n"
     ]
    }
   ],
   "source": [
    "# Count frequencies of each note for Men\n",
    "\n",
    "# Subset the DataFrame to only include Men's fragrances\n",
    "men_df = df[df['department'] == 'Men']\n",
    "\n",
    "# Get the notes for each fragrance in the top 10 scents\n",
    "top_scents_notes = men_df[men_df['scents'].isin(top_10_scents.index)][['base_note', 'middle_note']]\n",
    "\n",
    "# Concatenate the base and middle notes for each fragrance\n",
    "top_scents_notes['notes'] = top_scents_notes['base_note'] + ' ' + top_scents_notes['middle_note']\n",
    "\n",
    "# Count the frequency of each note across all fragrances in the top 10 scents\n",
    "note_counts = {}\n",
    "for notes in top_scents_notes['notes']:\n",
    "    for note in notes.replace('/', ' ').replace(',', ' ').split():\n",
    "        note = note.lower()\n",
    "        if note == 'and':\n",
    "            continue  # skip counting the \"and\" note\n",
    "        if note in note_counts:\n",
    "            note_counts[note] += 1\n",
    "        else:\n",
    "            note_counts[note] = 1\n",
    "\n",
    "# Sort the notes by their frequency in descending order\n",
    "sorted_notes = sorted(note_counts.items(), key=lambda x: x[1], reverse=True)\n",
    "\n",
    "# Print the top 10 notes\n",
    "print('Top 10 notes for Men:')\n",
    "for note, count in sorted_notes[:10]:\n",
    "    print(note, count)"
   ]
  },
  {
   "cell_type": "code",
   "execution_count": 220,
   "id": "047f8f63-d729-4d3d-bdc1-0e7ba68ef125",
   "metadata": {
    "tags": []
   },
   "outputs": [
    {
     "data": {
      "image/png": "[encoded data removed]",
      "text/plain": [
       "<Figure size 1000x600 with 1 Axes>"
      ]
     },
     "metadata": {},
     "output_type": "display_data"
    }
   ],
   "source": [
    "# plot a horizontal bar\n",
    "colors = ['blue', 'gray', 'yellow', 'green', 'red', 'purple', 'pink', 'brown', 'orange', 'black']\n",
    "\n",
    "# Plot a horizontal bar with colored bars\n",
    "fig, ax = plt.subplots(figsize=(10, 6))\n",
    "ax.barh([note for note, count in sorted_notes[:10]], [count for note, count in sorted_notes[:10]], color=colors)\n",
    "ax.invert_yaxis()\n",
    "ax.set_xlabel('Frequency')\n",
    "ax.set_title('Top 10 notes for Men')\n",
    "plt.show()"
   ]
  },
  {
   "cell_type": "markdown",
   "id": "29c8e703-4787-426a-a2cd-337eb7be72e7",
   "metadata": {},
   "source": [
    "    Men's top 3 are: patchouli, cedar, amber. \n",
    "    Women's top 3: jasmine, musk, vanilla\n",
    "    \n",
    "Well, I'm surprised not a lot of women like amber, but its reasonable they would choose something more feminine and I do like the smell of amber and musk :)"
   ]
  },
  {
   "cell_type": "markdown",
   "id": "ffc962ba-3d04-4732-8c8c-a2b5e68fb198",
   "metadata": {},
   "source": [
    "### 7. Model Selection"
   ]
  },
  {
   "cell_type": "markdown",
   "id": "0e1b1d1d-92bb-4154-a633-ea0bf8a40547",
   "metadata": {},
   "source": [
    "Now its time to build our model. We will choose from below:\n",
    "\n",
    "1. Cosine Similarity:\n",
    "    - Description of the scent (e.g., floral, fruity, spicy, woody, etc.)\n",
    "    - Notes of the scent (e.g., top notes, middle notes, base notes)\n",
    "    - Perfumer or brand\n",
    "    - Seasonality (e.g., spring, summer, fall, winter)\n",
    "    - Occasion (e.g., casual, formal, evening, daytime)\n",
    "\n",
    "2. Content-Based Filtering:\n",
    "    - User preferences (e.g., favorite scents, disliked scents)\n",
    "    - Previous purchases or ratings\n",
    "    - Price range\n",
    "    - Product availability\n",
    "    - Brand preferences\n",
    "\n",
    "3. Neural Networks:\n",
    "    - Similar variables to cosine similarity and content-based filtering, as well as:\n",
    "    - User behavior on the platform (e.g., click-through rates, time spent browsing, etc.)\n",
    "    - Demographic information (e.g., age, gender, location, etc.)\n",
    "\n",
    "4. Decision Trees:\n",
    "    - Variables similar to the above models, as well as:\n",
    "    - Customer segmentation (e.g., high spenders, budget-conscious, frequent purchasers, etc.)\n",
    "    - Customer loyalty (e.g., how frequently they return to make purchases)\n",
    "\n",
    "5. Matrix Factorization:\n",
    "    - Variables similar to the above models, as well as:\n",
    "    - Co-purchasing behavior (e.g., what products are commonly purchased together)\n",
    "    - Product popularity (e.g., how frequently a product is purchased or viewed)\n"
   ]
  },
  {
   "cell_type": "markdown",
   "id": "d233fc5e-ca1a-4cfa-85b6-e2f9fd3237f9",
   "metadata": {},
   "source": [
    "Well, In this case I think its alot more efficient to use 1,2,5 but we will still try to play around with all of them because WHY NOT! (Examples included but not limited to)"
   ]
  },
  {
   "cell_type": "markdown",
   "id": "958a1b09-7698-4382-b000-fc42e60f7772",
   "metadata": {
    "tags": []
   },
   "source": [
    "### 8. Model Evaluation"
   ]
  },
  {
   "cell_type": "markdown",
   "id": "0256c945-ae96-43a1-903c-b68745ee83aa",
   "metadata": {},
   "source": [
    "##### See you on the next chapter!!!! .(๓´͈ ˘ `͈๓).🌙.｡★*ﾟ"
   ]
  }
 ],
 "metadata": {
  "kernelspec": {
   "display_name": "Python 3 (ipykernel)",
   "language": "python",
   "name": "python3"
  },
  "language_info": {
   "codemirror_mode": {
    "name": "ipython",
    "version": 3
   },
   "file_extension": ".py",
   "mimetype": "text/x-python",
   "name": "python",
   "nbconvert_exporter": "python",
   "pygments_lexer": "ipython3",
   "version": "3.10.9"
  }
 },
 "nbformat": 4,
 "nbformat_minor": 5
}
